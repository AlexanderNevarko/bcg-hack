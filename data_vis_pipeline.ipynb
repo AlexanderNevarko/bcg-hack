{
 "cells": [
  {
   "cell_type": "code",
   "execution_count": 38,
   "id": "ce103164-d9ea-4b00-93fe-124045830cb1",
   "metadata": {},
   "outputs": [],
   "source": [
    "import pandas as pd\n",
    "import numpy as np\n",
    "import matplotlib.pyplot as plt\n",
    "import chart_studio.plotly as py\n",
    "import plotly.graph_objects as go\n",
    "import plotly.express as px\n",
    "import sklearn\n",
    "from datetime import datetime"
   ]
  },
  {
   "cell_type": "code",
   "execution_count": 101,
   "id": "a183bd09-e7a2-41e1-9872-2aaa1c92e9ed",
   "metadata": {},
   "outputs": [],
   "source": [
    "lab_ds_path = 'nii_inf/export_LABD_PCR_weekly_201540_201939_FINAL.xlsx'\n",
    "epi_ds_path = 'nii_inf/export_EPI_MAIN_weekly_201540_201939_FINAL.xlsx'"
   ]
  },
  {
   "cell_type": "code",
   "execution_count": 121,
   "id": "6ba84557-54b4-41b2-a9db-5c9c0ecc8d50",
   "metadata": {},
   "outputs": [],
   "source": [
    "lab_ds = pd.read_excel(lab_ds_path)\n",
    "epi_ds = pd.read_excel(epi_ds_path)"
   ]
  },
  {
   "cell_type": "code",
   "execution_count": 122,
   "id": "academic-guest",
   "metadata": {},
   "outputs": [
    {
     "data": {
      "text/plain": [
       "Index(['REGION_NAME', 'DISTRICT_NAME', 'LPU_NAME_x', 'YEAR', 'WEEK', 'ARI_0_2',\n",
       "       'ARI_3_6', 'ARI_7_14', 'ARI_15', 'ARI_TOTAL', 'ILI_0_2', 'ILI_3_6',\n",
       "       'ILI_7_14', 'ILI_15', 'ILI_TOTAL', 'POP_0_2', 'POP_3_6', 'POP_7_14',\n",
       "       'POP_15', 'POP_TOTAL', 'LPU_NAME_y', 'SWB_0_2', 'SWB_3_6', 'SWB_7_14',\n",
       "       'SWB_15', 'SWB_TOTAL', 'POS_0_2', 'POS_3_6', 'POS_7_14', 'POS_15',\n",
       "       'POS_TOTAL', 'SWBA_0_2', 'SWBA_3_6', 'SWBA_7_14', 'SWBA_15',\n",
       "       'SWBA_TOTAL', 'POSA_0_2', 'POSA_3_6', 'POSA_7_14', 'POSA_15',\n",
       "       'POSA_TOTAL'],\n",
       "      dtype='object')"
      ]
     },
     "execution_count": 122,
     "metadata": {},
     "output_type": "execute_result"
    }
   ],
   "source": [
    "main_ds = pd.merge(left=epi_ds, right=lab_ds, how='outer', on=['REGION_NAME', 'DISTRICT_NAME', 'YEAR', 'WEEK'])\n",
    "main_ds.describe()\n",
    "# main_ds.columns"
   ]
  },
  {
   "cell_type": "code",
   "execution_count": 125,
   "id": "preceding-characterization",
   "metadata": {},
   "outputs": [
    {
     "data": {
      "text/html": [
       "<div>\n",
       "<style scoped>\n",
       "    .dataframe tbody tr th:only-of-type {\n",
       "        vertical-align: middle;\n",
       "    }\n",
       "\n",
       "    .dataframe tbody tr th {\n",
       "        vertical-align: top;\n",
       "    }\n",
       "\n",
       "    .dataframe thead th {\n",
       "        text-align: right;\n",
       "    }\n",
       "</style>\n",
       "<table border=\"1\" class=\"dataframe\">\n",
       "  <thead>\n",
       "    <tr style=\"text-align: right;\">\n",
       "      <th></th>\n",
       "      <th>REGION_NAME</th>\n",
       "      <th>DISTRICT_NAME</th>\n",
       "      <th>LPU_NAME_x</th>\n",
       "      <th>YEAR</th>\n",
       "      <th>WEEK</th>\n",
       "      <th>ARI_0_2</th>\n",
       "      <th>ARI_3_6</th>\n",
       "      <th>ARI_7_14</th>\n",
       "      <th>ARI_15</th>\n",
       "      <th>ARI_TOTAL</th>\n",
       "      <th>...</th>\n",
       "      <th>SWBA_0_2</th>\n",
       "      <th>SWBA_3_6</th>\n",
       "      <th>SWBA_7_14</th>\n",
       "      <th>SWBA_15</th>\n",
       "      <th>SWBA_TOTAL</th>\n",
       "      <th>POSA_0_2</th>\n",
       "      <th>POSA_3_6</th>\n",
       "      <th>POSA_7_14</th>\n",
       "      <th>POSA_15</th>\n",
       "      <th>POSA_TOTAL</th>\n",
       "    </tr>\n",
       "  </thead>\n",
       "  <tbody>\n",
       "    <tr>\n",
       "      <th>0</th>\n",
       "      <td>Дальневосточный ФО</td>\n",
       "      <td>Биробиджан</td>\n",
       "      <td>ЦГиЭ</td>\n",
       "      <td>2015</td>\n",
       "      <td>40</td>\n",
       "      <td>212</td>\n",
       "      <td>163</td>\n",
       "      <td>87</td>\n",
       "      <td>85</td>\n",
       "      <td>547</td>\n",
       "      <td>...</td>\n",
       "      <td>7.0</td>\n",
       "      <td>1.0</td>\n",
       "      <td>3.0</td>\n",
       "      <td>1.0</td>\n",
       "      <td>12.0</td>\n",
       "      <td>5.0</td>\n",
       "      <td>1.0</td>\n",
       "      <td>0.0</td>\n",
       "      <td>0.0</td>\n",
       "      <td>6.0</td>\n",
       "    </tr>\n",
       "    <tr>\n",
       "      <th>1</th>\n",
       "      <td>Дальневосточный ФО</td>\n",
       "      <td>Владивосток</td>\n",
       "      <td>ЦГиЭ</td>\n",
       "      <td>2015</td>\n",
       "      <td>40</td>\n",
       "      <td>631</td>\n",
       "      <td>811</td>\n",
       "      <td>359</td>\n",
       "      <td>570</td>\n",
       "      <td>2371</td>\n",
       "      <td>...</td>\n",
       "      <td>4.0</td>\n",
       "      <td>5.0</td>\n",
       "      <td>0.0</td>\n",
       "      <td>22.0</td>\n",
       "      <td>31.0</td>\n",
       "      <td>1.0</td>\n",
       "      <td>1.0</td>\n",
       "      <td>0.0</td>\n",
       "      <td>4.0</td>\n",
       "      <td>6.0</td>\n",
       "    </tr>\n",
       "    <tr>\n",
       "      <th>2</th>\n",
       "      <td>Дальневосточный ФО</td>\n",
       "      <td>Магадан</td>\n",
       "      <td>ЦГиЭ</td>\n",
       "      <td>2015</td>\n",
       "      <td>40</td>\n",
       "      <td>149</td>\n",
       "      <td>200</td>\n",
       "      <td>155</td>\n",
       "      <td>128</td>\n",
       "      <td>632</td>\n",
       "      <td>...</td>\n",
       "      <td>11.0</td>\n",
       "      <td>6.0</td>\n",
       "      <td>1.0</td>\n",
       "      <td>4.0</td>\n",
       "      <td>22.0</td>\n",
       "      <td>7.0</td>\n",
       "      <td>2.0</td>\n",
       "      <td>0.0</td>\n",
       "      <td>0.0</td>\n",
       "      <td>9.0</td>\n",
       "    </tr>\n",
       "    <tr>\n",
       "      <th>3</th>\n",
       "      <td>Дальневосточный ФО</td>\n",
       "      <td>Петропавловск</td>\n",
       "      <td>ЦГиЭ</td>\n",
       "      <td>2015</td>\n",
       "      <td>40</td>\n",
       "      <td>297</td>\n",
       "      <td>334</td>\n",
       "      <td>226</td>\n",
       "      <td>193</td>\n",
       "      <td>1050</td>\n",
       "      <td>...</td>\n",
       "      <td>0.0</td>\n",
       "      <td>0.0</td>\n",
       "      <td>0.0</td>\n",
       "      <td>0.0</td>\n",
       "      <td>0.0</td>\n",
       "      <td>0.0</td>\n",
       "      <td>0.0</td>\n",
       "      <td>0.0</td>\n",
       "      <td>0.0</td>\n",
       "      <td>0.0</td>\n",
       "    </tr>\n",
       "    <tr>\n",
       "      <th>4</th>\n",
       "      <td>Дальневосточный ФО</td>\n",
       "      <td>Улан-Удэ</td>\n",
       "      <td>ЦГиЭ</td>\n",
       "      <td>2015</td>\n",
       "      <td>40</td>\n",
       "      <td>144</td>\n",
       "      <td>159</td>\n",
       "      <td>75</td>\n",
       "      <td>228</td>\n",
       "      <td>606</td>\n",
       "      <td>...</td>\n",
       "      <td>NaN</td>\n",
       "      <td>NaN</td>\n",
       "      <td>NaN</td>\n",
       "      <td>NaN</td>\n",
       "      <td>NaN</td>\n",
       "      <td>NaN</td>\n",
       "      <td>NaN</td>\n",
       "      <td>NaN</td>\n",
       "      <td>NaN</td>\n",
       "      <td>NaN</td>\n",
       "    </tr>\n",
       "    <tr>\n",
       "      <th>...</th>\n",
       "      <td>...</td>\n",
       "      <td>...</td>\n",
       "      <td>...</td>\n",
       "      <td>...</td>\n",
       "      <td>...</td>\n",
       "      <td>...</td>\n",
       "      <td>...</td>\n",
       "      <td>...</td>\n",
       "      <td>...</td>\n",
       "      <td>...</td>\n",
       "      <td>...</td>\n",
       "      <td>...</td>\n",
       "      <td>...</td>\n",
       "      <td>...</td>\n",
       "      <td>...</td>\n",
       "      <td>...</td>\n",
       "      <td>...</td>\n",
       "      <td>...</td>\n",
       "      <td>...</td>\n",
       "      <td>...</td>\n",
       "      <td>...</td>\n",
       "    </tr>\n",
       "    <tr>\n",
       "      <th>13018</th>\n",
       "      <td>Южный ФО</td>\n",
       "      <td>Волгоград</td>\n",
       "      <td>ЦГиЭ</td>\n",
       "      <td>2019</td>\n",
       "      <td>39</td>\n",
       "      <td>952</td>\n",
       "      <td>1178</td>\n",
       "      <td>890</td>\n",
       "      <td>1531</td>\n",
       "      <td>4551</td>\n",
       "      <td>...</td>\n",
       "      <td>4.0</td>\n",
       "      <td>3.0</td>\n",
       "      <td>7.0</td>\n",
       "      <td>9.0</td>\n",
       "      <td>23.0</td>\n",
       "      <td>1.0</td>\n",
       "      <td>0.0</td>\n",
       "      <td>2.0</td>\n",
       "      <td>3.0</td>\n",
       "      <td>6.0</td>\n",
       "    </tr>\n",
       "    <tr>\n",
       "      <th>13019</th>\n",
       "      <td>Южный ФО</td>\n",
       "      <td>Краснодар</td>\n",
       "      <td>ЦГиЭ</td>\n",
       "      <td>2019</td>\n",
       "      <td>39</td>\n",
       "      <td>45</td>\n",
       "      <td>102</td>\n",
       "      <td>71</td>\n",
       "      <td>415</td>\n",
       "      <td>633</td>\n",
       "      <td>...</td>\n",
       "      <td>0.0</td>\n",
       "      <td>0.0</td>\n",
       "      <td>0.0</td>\n",
       "      <td>0.0</td>\n",
       "      <td>0.0</td>\n",
       "      <td>0.0</td>\n",
       "      <td>0.0</td>\n",
       "      <td>0.0</td>\n",
       "      <td>0.0</td>\n",
       "      <td>0.0</td>\n",
       "    </tr>\n",
       "    <tr>\n",
       "      <th>13020</th>\n",
       "      <td>Южный ФО</td>\n",
       "      <td>Ростов-на-Дону</td>\n",
       "      <td>ЦГиЭ</td>\n",
       "      <td>2019</td>\n",
       "      <td>39</td>\n",
       "      <td>697</td>\n",
       "      <td>941</td>\n",
       "      <td>675</td>\n",
       "      <td>920</td>\n",
       "      <td>3233</td>\n",
       "      <td>...</td>\n",
       "      <td>32.0</td>\n",
       "      <td>9.0</td>\n",
       "      <td>7.0</td>\n",
       "      <td>8.0</td>\n",
       "      <td>56.0</td>\n",
       "      <td>25.0</td>\n",
       "      <td>7.0</td>\n",
       "      <td>2.0</td>\n",
       "      <td>0.0</td>\n",
       "      <td>34.0</td>\n",
       "    </tr>\n",
       "    <tr>\n",
       "      <th>13021</th>\n",
       "      <td>Южный ФО</td>\n",
       "      <td>Севастополь</td>\n",
       "      <td>ЦГиЭ</td>\n",
       "      <td>2019</td>\n",
       "      <td>39</td>\n",
       "      <td>175</td>\n",
       "      <td>287</td>\n",
       "      <td>402</td>\n",
       "      <td>259</td>\n",
       "      <td>1123</td>\n",
       "      <td>...</td>\n",
       "      <td>NaN</td>\n",
       "      <td>NaN</td>\n",
       "      <td>NaN</td>\n",
       "      <td>NaN</td>\n",
       "      <td>NaN</td>\n",
       "      <td>NaN</td>\n",
       "      <td>NaN</td>\n",
       "      <td>NaN</td>\n",
       "      <td>NaN</td>\n",
       "      <td>NaN</td>\n",
       "    </tr>\n",
       "    <tr>\n",
       "      <th>13022</th>\n",
       "      <td>Южный ФО</td>\n",
       "      <td>Симферополь</td>\n",
       "      <td>ЦГиЭ</td>\n",
       "      <td>2019</td>\n",
       "      <td>39</td>\n",
       "      <td>262</td>\n",
       "      <td>560</td>\n",
       "      <td>626</td>\n",
       "      <td>378</td>\n",
       "      <td>1826</td>\n",
       "      <td>...</td>\n",
       "      <td>NaN</td>\n",
       "      <td>NaN</td>\n",
       "      <td>NaN</td>\n",
       "      <td>NaN</td>\n",
       "      <td>NaN</td>\n",
       "      <td>NaN</td>\n",
       "      <td>NaN</td>\n",
       "      <td>NaN</td>\n",
       "      <td>NaN</td>\n",
       "      <td>NaN</td>\n",
       "    </tr>\n",
       "  </tbody>\n",
       "</table>\n",
       "<p>13023 rows × 41 columns</p>\n",
       "</div>"
      ],
      "text/plain": [
       "              REGION_NAME   DISTRICT_NAME LPU_NAME_x  YEAR  WEEK  ARI_0_2  \\\n",
       "0      Дальневосточный ФО      Биробиджан       ЦГиЭ  2015    40      212   \n",
       "1      Дальневосточный ФО     Владивосток       ЦГиЭ  2015    40      631   \n",
       "2      Дальневосточный ФО         Магадан       ЦГиЭ  2015    40      149   \n",
       "3      Дальневосточный ФО   Петропавловск       ЦГиЭ  2015    40      297   \n",
       "4      Дальневосточный ФО        Улан-Удэ       ЦГиЭ  2015    40      144   \n",
       "...                   ...             ...        ...   ...   ...      ...   \n",
       "13018            Южный ФО       Волгоград       ЦГиЭ  2019    39      952   \n",
       "13019            Южный ФО       Краснодар       ЦГиЭ  2019    39       45   \n",
       "13020            Южный ФО  Ростов-на-Дону       ЦГиЭ  2019    39      697   \n",
       "13021            Южный ФО     Севастополь       ЦГиЭ  2019    39      175   \n",
       "13022            Южный ФО     Симферополь       ЦГиЭ  2019    39      262   \n",
       "\n",
       "       ARI_3_6  ARI_7_14  ARI_15  ARI_TOTAL  ...  SWBA_0_2  SWBA_3_6  \\\n",
       "0          163        87      85        547  ...       7.0       1.0   \n",
       "1          811       359     570       2371  ...       4.0       5.0   \n",
       "2          200       155     128        632  ...      11.0       6.0   \n",
       "3          334       226     193       1050  ...       0.0       0.0   \n",
       "4          159        75     228        606  ...       NaN       NaN   \n",
       "...        ...       ...     ...        ...  ...       ...       ...   \n",
       "13018     1178       890    1531       4551  ...       4.0       3.0   \n",
       "13019      102        71     415        633  ...       0.0       0.0   \n",
       "13020      941       675     920       3233  ...      32.0       9.0   \n",
       "13021      287       402     259       1123  ...       NaN       NaN   \n",
       "13022      560       626     378       1826  ...       NaN       NaN   \n",
       "\n",
       "       SWBA_7_14  SWBA_15  SWBA_TOTAL  POSA_0_2  POSA_3_6  POSA_7_14  POSA_15  \\\n",
       "0            3.0      1.0        12.0       5.0       1.0        0.0      0.0   \n",
       "1            0.0     22.0        31.0       1.0       1.0        0.0      4.0   \n",
       "2            1.0      4.0        22.0       7.0       2.0        0.0      0.0   \n",
       "3            0.0      0.0         0.0       0.0       0.0        0.0      0.0   \n",
       "4            NaN      NaN         NaN       NaN       NaN        NaN      NaN   \n",
       "...          ...      ...         ...       ...       ...        ...      ...   \n",
       "13018        7.0      9.0        23.0       1.0       0.0        2.0      3.0   \n",
       "13019        0.0      0.0         0.0       0.0       0.0        0.0      0.0   \n",
       "13020        7.0      8.0        56.0      25.0       7.0        2.0      0.0   \n",
       "13021        NaN      NaN         NaN       NaN       NaN        NaN      NaN   \n",
       "13022        NaN      NaN         NaN       NaN       NaN        NaN      NaN   \n",
       "\n",
       "       POSA_TOTAL  \n",
       "0             6.0  \n",
       "1             6.0  \n",
       "2             9.0  \n",
       "3             0.0  \n",
       "4             NaN  \n",
       "...           ...  \n",
       "13018         6.0  \n",
       "13019         0.0  \n",
       "13020        34.0  \n",
       "13021         NaN  \n",
       "13022         NaN  \n",
       "\n",
       "[13023 rows x 41 columns]"
      ]
     },
     "execution_count": 125,
     "metadata": {},
     "output_type": "execute_result"
    }
   ],
   "source": [
    "main_ds"
   ]
  },
  {
   "cell_type": "code",
   "execution_count": 123,
   "id": "4b00bf7f-36d3-4c53-a0e9-813a66a18e3a",
   "metadata": {},
   "outputs": [
    {
     "data": {
      "text/plain": [
       "array(['ЦГиЭ'], dtype=object)"
      ]
     },
     "execution_count": 123,
     "metadata": {},
     "output_type": "execute_result"
    }
   ],
   "source": [
    "epi_ds.LPU_NAME.unique()"
   ]
  },
  {
   "cell_type": "code",
   "execution_count": 124,
   "id": "improved-sphere",
   "metadata": {},
   "outputs": [
    {
     "data": {
      "text/plain": [
       "array(['ЦГиЭ', 'ФГУЗ', 'ЦЭЭГ', 'НИИ гриппа', 'ГВЦ'], dtype=object)"
      ]
     },
     "execution_count": 124,
     "metadata": {},
     "output_type": "execute_result"
    }
   ],
   "source": [
    "lab_ds.LPU_NAME.unique()"
   ]
  },
  {
   "cell_type": "code",
   "execution_count": 9,
   "id": "371f1c73-9552-4019-9e43-ef52177360a6",
   "metadata": {},
   "outputs": [],
   "source": [
    "def get_district_data(ds):\n",
    "    districts = ds.DISTRICT_NAME.unique()\n",
    "    data = {}\n",
    "    for dst in districts:\n",
    "        dst_df = ds[ds.DISTRICT_NAME==dst].sort_values(['YEAR', 'WEEK'])\n",
    "        data[dst] = dst_df\n",
    "    return data"
   ]
  },
  {
   "cell_type": "code",
   "execution_count": 103,
   "id": "a0a2eae3-36d8-47d7-a29a-a82ef4b88b68",
   "metadata": {},
   "outputs": [],
   "source": [
    "def make_dates(ds):\n",
    "    ds['DATE'] = ds.apply(lambda x: datetime.strptime(f'{x[\"YEAR\"]}-{x[\"WEEK\"]}-1', \"%Y-%W-%w\"), axis=1)\n",
    "    \n",
    "def normalize(ds, features):\n",
    "    # Need bold features: ARI_0_2 -> ARI\n",
    "    all_features = ds.columns\n",
    "    for feature in features:\n",
    "        ages = [ft for ft in all_features if ft.startswith(feature)]\n",
    "        pops = [pop for pop in all_features if pop.startswith('POP')]\n",
    "        dct = {}\n",
    "        for age in ages:\n",
    "            interval = age.replace(feature, '')\n",
    "            pop = [p for p in pops if p.endswith(interval)][0]\n",
    "            dct[age] = pop\n",
    "        for age_feat, age_pop in dct.items():\n",
    "            ds[f'NORM_{age_feat}'] = ds[age_feat] / ds[age_pop] * 100_000"
   ]
  },
  {
   "cell_type": "code",
   "execution_count": 72,
   "id": "discrete-robin",
   "metadata": {},
   "outputs": [],
   "source": [
    "def plot_timeline(df, features, cities=None):\n",
    "    if cities == None:\n",
    "        cities = df.DISTRICT_NAME.unique()\n",
    "    fig = go.Figure()\n",
    "    for city in cities:\n",
    "        city_data = df[df.DISTRICT_NAME==city]\n",
    "        for feature in features:\n",
    "            fig.add_trace(go.Scatter(x=city_data.DATE, y=city_data[feature],\n",
    "                                    name=f'{city} - {feature}'))\n",
    "    fig.show()"
   ]
  },
  {
   "cell_type": "code",
   "execution_count": 106,
   "id": "suitable-turner",
   "metadata": {},
   "outputs": [
    {
     "data": {
      "text/html": [
       "<div>\n",
       "<style scoped>\n",
       "    .dataframe tbody tr th:only-of-type {\n",
       "        vertical-align: middle;\n",
       "    }\n",
       "\n",
       "    .dataframe tbody tr th {\n",
       "        vertical-align: top;\n",
       "    }\n",
       "\n",
       "    .dataframe thead th {\n",
       "        text-align: right;\n",
       "    }\n",
       "</style>\n",
       "<table border=\"1\" class=\"dataframe\">\n",
       "  <thead>\n",
       "    <tr style=\"text-align: right;\">\n",
       "      <th></th>\n",
       "      <th>REGION_NAME</th>\n",
       "      <th>DISTRICT_NAME</th>\n",
       "      <th>LPU_NAME</th>\n",
       "      <th>YEAR</th>\n",
       "      <th>WEEK</th>\n",
       "      <th>ARI_0_2</th>\n",
       "      <th>ARI_3_6</th>\n",
       "      <th>ARI_7_14</th>\n",
       "      <th>ARI_15</th>\n",
       "      <th>ARI_TOTAL</th>\n",
       "      <th>...</th>\n",
       "      <th>NORM_ARI_0_2</th>\n",
       "      <th>NORM_ARI_3_6</th>\n",
       "      <th>NORM_ARI_7_14</th>\n",
       "      <th>NORM_ARI_15</th>\n",
       "      <th>NORM_ARI_TOTAL</th>\n",
       "      <th>NORM_ILI_0_2</th>\n",
       "      <th>NORM_ILI_3_6</th>\n",
       "      <th>NORM_ILI_7_14</th>\n",
       "      <th>NORM_ILI_15</th>\n",
       "      <th>NORM_ILI_TOTAL</th>\n",
       "    </tr>\n",
       "  </thead>\n",
       "  <tbody>\n",
       "    <tr>\n",
       "      <th>0</th>\n",
       "      <td>Дальневосточный ФО</td>\n",
       "      <td>Биробиджан</td>\n",
       "      <td>ЦГиЭ</td>\n",
       "      <td>2015</td>\n",
       "      <td>40</td>\n",
       "      <td>212</td>\n",
       "      <td>163</td>\n",
       "      <td>87</td>\n",
       "      <td>85</td>\n",
       "      <td>547</td>\n",
       "      <td>...</td>\n",
       "      <td>7237.965176</td>\n",
       "      <td>4278.215223</td>\n",
       "      <td>1344.667697</td>\n",
       "      <td>138.058732</td>\n",
       "      <td>731.508351</td>\n",
       "      <td>0.0</td>\n",
       "      <td>0.0</td>\n",
       "      <td>0.0</td>\n",
       "      <td>0.0</td>\n",
       "      <td>0.0</td>\n",
       "    </tr>\n",
       "    <tr>\n",
       "      <th>1</th>\n",
       "      <td>Дальневосточный ФО</td>\n",
       "      <td>Владивосток</td>\n",
       "      <td>ЦГиЭ</td>\n",
       "      <td>2015</td>\n",
       "      <td>40</td>\n",
       "      <td>631</td>\n",
       "      <td>811</td>\n",
       "      <td>359</td>\n",
       "      <td>570</td>\n",
       "      <td>2371</td>\n",
       "      <td>...</td>\n",
       "      <td>3213.812774</td>\n",
       "      <td>3115.276764</td>\n",
       "      <td>747.356150</td>\n",
       "      <td>115.088042</td>\n",
       "      <td>402.563093</td>\n",
       "      <td>0.0</td>\n",
       "      <td>0.0</td>\n",
       "      <td>0.0</td>\n",
       "      <td>0.0</td>\n",
       "      <td>0.0</td>\n",
       "    </tr>\n",
       "    <tr>\n",
       "      <th>2</th>\n",
       "      <td>Дальневосточный ФО</td>\n",
       "      <td>Магадан</td>\n",
       "      <td>ЦГиЭ</td>\n",
       "      <td>2015</td>\n",
       "      <td>40</td>\n",
       "      <td>149</td>\n",
       "      <td>200</td>\n",
       "      <td>155</td>\n",
       "      <td>128</td>\n",
       "      <td>632</td>\n",
       "      <td>...</td>\n",
       "      <td>4031.385281</td>\n",
       "      <td>4346.881113</td>\n",
       "      <td>1838.889548</td>\n",
       "      <td>151.804457</td>\n",
       "      <td>625.463902</td>\n",
       "      <td>0.0</td>\n",
       "      <td>0.0</td>\n",
       "      <td>0.0</td>\n",
       "      <td>0.0</td>\n",
       "      <td>0.0</td>\n",
       "    </tr>\n",
       "    <tr>\n",
       "      <th>3</th>\n",
       "      <td>Дальневосточный ФО</td>\n",
       "      <td>Петропавловск</td>\n",
       "      <td>ЦГиЭ</td>\n",
       "      <td>2015</td>\n",
       "      <td>40</td>\n",
       "      <td>297</td>\n",
       "      <td>334</td>\n",
       "      <td>226</td>\n",
       "      <td>193</td>\n",
       "      <td>1050</td>\n",
       "      <td>...</td>\n",
       "      <td>4397.394137</td>\n",
       "      <td>4185.988219</td>\n",
       "      <td>1627.186983</td>\n",
       "      <td>126.646237</td>\n",
       "      <td>580.062426</td>\n",
       "      <td>0.0</td>\n",
       "      <td>0.0</td>\n",
       "      <td>0.0</td>\n",
       "      <td>0.0</td>\n",
       "      <td>0.0</td>\n",
       "    </tr>\n",
       "    <tr>\n",
       "      <th>4</th>\n",
       "      <td>Дальневосточный ФО</td>\n",
       "      <td>Улан-Удэ</td>\n",
       "      <td>ЦГиЭ</td>\n",
       "      <td>2015</td>\n",
       "      <td>40</td>\n",
       "      <td>144</td>\n",
       "      <td>159</td>\n",
       "      <td>75</td>\n",
       "      <td>228</td>\n",
       "      <td>606</td>\n",
       "      <td>...</td>\n",
       "      <td>617.654628</td>\n",
       "      <td>553.409210</td>\n",
       "      <td>164.842411</td>\n",
       "      <td>62.432057</td>\n",
       "      <td>130.959070</td>\n",
       "      <td>0.0</td>\n",
       "      <td>0.0</td>\n",
       "      <td>0.0</td>\n",
       "      <td>0.0</td>\n",
       "      <td>0.0</td>\n",
       "    </tr>\n",
       "    <tr>\n",
       "      <th>...</th>\n",
       "      <td>...</td>\n",
       "      <td>...</td>\n",
       "      <td>...</td>\n",
       "      <td>...</td>\n",
       "      <td>...</td>\n",
       "      <td>...</td>\n",
       "      <td>...</td>\n",
       "      <td>...</td>\n",
       "      <td>...</td>\n",
       "      <td>...</td>\n",
       "      <td>...</td>\n",
       "      <td>...</td>\n",
       "      <td>...</td>\n",
       "      <td>...</td>\n",
       "      <td>...</td>\n",
       "      <td>...</td>\n",
       "      <td>...</td>\n",
       "      <td>...</td>\n",
       "      <td>...</td>\n",
       "      <td>...</td>\n",
       "      <td>...</td>\n",
       "    </tr>\n",
       "    <tr>\n",
       "      <th>12738</th>\n",
       "      <td>Южный ФО</td>\n",
       "      <td>Волгоград</td>\n",
       "      <td>ЦГиЭ</td>\n",
       "      <td>2019</td>\n",
       "      <td>39</td>\n",
       "      <td>952</td>\n",
       "      <td>1178</td>\n",
       "      <td>890</td>\n",
       "      <td>1531</td>\n",
       "      <td>4551</td>\n",
       "      <td>...</td>\n",
       "      <td>2826.015971</td>\n",
       "      <td>2741.766554</td>\n",
       "      <td>1134.842206</td>\n",
       "      <td>178.343445</td>\n",
       "      <td>449.023367</td>\n",
       "      <td>0.0</td>\n",
       "      <td>0.0</td>\n",
       "      <td>0.0</td>\n",
       "      <td>0.0</td>\n",
       "      <td>0.0</td>\n",
       "    </tr>\n",
       "    <tr>\n",
       "      <th>12739</th>\n",
       "      <td>Южный ФО</td>\n",
       "      <td>Краснодар</td>\n",
       "      <td>ЦГиЭ</td>\n",
       "      <td>2019</td>\n",
       "      <td>39</td>\n",
       "      <td>45</td>\n",
       "      <td>102</td>\n",
       "      <td>71</td>\n",
       "      <td>415</td>\n",
       "      <td>633</td>\n",
       "      <td>...</td>\n",
       "      <td>87.545232</td>\n",
       "      <td>199.874588</td>\n",
       "      <td>84.138176</td>\n",
       "      <td>51.656493</td>\n",
       "      <td>63.926286</td>\n",
       "      <td>0.0</td>\n",
       "      <td>0.0</td>\n",
       "      <td>0.0</td>\n",
       "      <td>0.0</td>\n",
       "      <td>0.0</td>\n",
       "    </tr>\n",
       "    <tr>\n",
       "      <th>12740</th>\n",
       "      <td>Южный ФО</td>\n",
       "      <td>Ростов-на-Дону</td>\n",
       "      <td>ЦГиЭ</td>\n",
       "      <td>2019</td>\n",
       "      <td>39</td>\n",
       "      <td>697</td>\n",
       "      <td>941</td>\n",
       "      <td>675</td>\n",
       "      <td>920</td>\n",
       "      <td>3233</td>\n",
       "      <td>...</td>\n",
       "      <td>1814.773349</td>\n",
       "      <td>2213.961367</td>\n",
       "      <td>928.741452</td>\n",
       "      <td>95.209907</td>\n",
       "      <td>288.692934</td>\n",
       "      <td>0.0</td>\n",
       "      <td>0.0</td>\n",
       "      <td>0.0</td>\n",
       "      <td>0.0</td>\n",
       "      <td>0.0</td>\n",
       "    </tr>\n",
       "    <tr>\n",
       "      <th>12741</th>\n",
       "      <td>Южный ФО</td>\n",
       "      <td>Севастополь</td>\n",
       "      <td>ЦГиЭ</td>\n",
       "      <td>2019</td>\n",
       "      <td>39</td>\n",
       "      <td>175</td>\n",
       "      <td>287</td>\n",
       "      <td>402</td>\n",
       "      <td>259</td>\n",
       "      <td>1123</td>\n",
       "      <td>...</td>\n",
       "      <td>1087.767280</td>\n",
       "      <td>1464.360427</td>\n",
       "      <td>1156.302134</td>\n",
       "      <td>70.723096</td>\n",
       "      <td>257.173609</td>\n",
       "      <td>0.0</td>\n",
       "      <td>0.0</td>\n",
       "      <td>0.0</td>\n",
       "      <td>0.0</td>\n",
       "      <td>0.0</td>\n",
       "    </tr>\n",
       "    <tr>\n",
       "      <th>12742</th>\n",
       "      <td>Южный ФО</td>\n",
       "      <td>Симферополь</td>\n",
       "      <td>ЦГиЭ</td>\n",
       "      <td>2019</td>\n",
       "      <td>39</td>\n",
       "      <td>262</td>\n",
       "      <td>560</td>\n",
       "      <td>626</td>\n",
       "      <td>378</td>\n",
       "      <td>1826</td>\n",
       "      <td>...</td>\n",
       "      <td>1864.635969</td>\n",
       "      <td>2925.045704</td>\n",
       "      <td>1955.516681</td>\n",
       "      <td>125.644844</td>\n",
       "      <td>498.830780</td>\n",
       "      <td>0.0</td>\n",
       "      <td>0.0</td>\n",
       "      <td>0.0</td>\n",
       "      <td>0.0</td>\n",
       "      <td>0.0</td>\n",
       "    </tr>\n",
       "  </tbody>\n",
       "</table>\n",
       "<p>12743 rows × 30 columns</p>\n",
       "</div>"
      ],
      "text/plain": [
       "              REGION_NAME   DISTRICT_NAME LPU_NAME  YEAR  WEEK  ARI_0_2  \\\n",
       "0      Дальневосточный ФО      Биробиджан     ЦГиЭ  2015    40      212   \n",
       "1      Дальневосточный ФО     Владивосток     ЦГиЭ  2015    40      631   \n",
       "2      Дальневосточный ФО         Магадан     ЦГиЭ  2015    40      149   \n",
       "3      Дальневосточный ФО   Петропавловск     ЦГиЭ  2015    40      297   \n",
       "4      Дальневосточный ФО        Улан-Удэ     ЦГиЭ  2015    40      144   \n",
       "...                   ...             ...      ...   ...   ...      ...   \n",
       "12738            Южный ФО       Волгоград     ЦГиЭ  2019    39      952   \n",
       "12739            Южный ФО       Краснодар     ЦГиЭ  2019    39       45   \n",
       "12740            Южный ФО  Ростов-на-Дону     ЦГиЭ  2019    39      697   \n",
       "12741            Южный ФО     Севастополь     ЦГиЭ  2019    39      175   \n",
       "12742            Южный ФО     Симферополь     ЦГиЭ  2019    39      262   \n",
       "\n",
       "       ARI_3_6  ARI_7_14  ARI_15  ARI_TOTAL  ...  NORM_ARI_0_2  NORM_ARI_3_6  \\\n",
       "0          163        87      85        547  ...   7237.965176   4278.215223   \n",
       "1          811       359     570       2371  ...   3213.812774   3115.276764   \n",
       "2          200       155     128        632  ...   4031.385281   4346.881113   \n",
       "3          334       226     193       1050  ...   4397.394137   4185.988219   \n",
       "4          159        75     228        606  ...    617.654628    553.409210   \n",
       "...        ...       ...     ...        ...  ...           ...           ...   \n",
       "12738     1178       890    1531       4551  ...   2826.015971   2741.766554   \n",
       "12739      102        71     415        633  ...     87.545232    199.874588   \n",
       "12740      941       675     920       3233  ...   1814.773349   2213.961367   \n",
       "12741      287       402     259       1123  ...   1087.767280   1464.360427   \n",
       "12742      560       626     378       1826  ...   1864.635969   2925.045704   \n",
       "\n",
       "       NORM_ARI_7_14  NORM_ARI_15  NORM_ARI_TOTAL  NORM_ILI_0_2  NORM_ILI_3_6  \\\n",
       "0        1344.667697   138.058732      731.508351           0.0           0.0   \n",
       "1         747.356150   115.088042      402.563093           0.0           0.0   \n",
       "2        1838.889548   151.804457      625.463902           0.0           0.0   \n",
       "3        1627.186983   126.646237      580.062426           0.0           0.0   \n",
       "4         164.842411    62.432057      130.959070           0.0           0.0   \n",
       "...              ...          ...             ...           ...           ...   \n",
       "12738    1134.842206   178.343445      449.023367           0.0           0.0   \n",
       "12739      84.138176    51.656493       63.926286           0.0           0.0   \n",
       "12740     928.741452    95.209907      288.692934           0.0           0.0   \n",
       "12741    1156.302134    70.723096      257.173609           0.0           0.0   \n",
       "12742    1955.516681   125.644844      498.830780           0.0           0.0   \n",
       "\n",
       "       NORM_ILI_7_14  NORM_ILI_15  NORM_ILI_TOTAL  \n",
       "0                0.0          0.0             0.0  \n",
       "1                0.0          0.0             0.0  \n",
       "2                0.0          0.0             0.0  \n",
       "3                0.0          0.0             0.0  \n",
       "4                0.0          0.0             0.0  \n",
       "...              ...          ...             ...  \n",
       "12738            0.0          0.0             0.0  \n",
       "12739            0.0          0.0             0.0  \n",
       "12740            0.0          0.0             0.0  \n",
       "12741            0.0          0.0             0.0  \n",
       "12742            0.0          0.0             0.0  \n",
       "\n",
       "[12743 rows x 30 columns]"
      ]
     },
     "execution_count": 106,
     "metadata": {},
     "output_type": "execute_result"
    }
   ],
   "source": [
    "normalize(epi_ds, ['ARI', 'ILI'])\n",
    "epi_ds"
   ]
  },
  {
   "cell_type": "code",
   "execution_count": 127,
   "id": "6594fca7-3dfc-4517-baef-a19aac3594bc",
   "metadata": {},
   "outputs": [],
   "source": [
    "make_dates(epi_ds)\n",
    "make_dates(lab_ds)\n",
    "make_dates(main_ds)"
   ]
  },
  {
   "cell_type": "code",
   "execution_count": 66,
   "id": "992d8888-8256-4bd3-b4f4-ab7460975630",
   "metadata": {},
   "outputs": [],
   "source": [
    "dst_lab_data = get_district_data(lab_ds)\n",
    "dst_epi_data = get_district_data(epi_ds)"
   ]
  },
  {
   "cell_type": "code",
   "execution_count": 128,
   "id": "spoken-tucson",
   "metadata": {},
   "outputs": [
    {
     "ename": "KeyError",
     "evalue": "'POS'",
     "output_type": "error",
     "traceback": [
      "\u001b[0;31m---------------------------------------------------------------------------\u001b[0m",
      "\u001b[0;31mKeyError\u001b[0m                                  Traceback (most recent call last)",
      "\u001b[0;32m~/miniconda/lib/python3.8/site-packages/pandas/core/indexes/base.py\u001b[0m in \u001b[0;36mget_loc\u001b[0;34m(self, key, method, tolerance)\u001b[0m\n\u001b[1;32m   3079\u001b[0m             \u001b[0;32mtry\u001b[0m\u001b[0;34m:\u001b[0m\u001b[0;34m\u001b[0m\u001b[0;34m\u001b[0m\u001b[0m\n\u001b[0;32m-> 3080\u001b[0;31m                 \u001b[0;32mreturn\u001b[0m \u001b[0mself\u001b[0m\u001b[0;34m.\u001b[0m\u001b[0m_engine\u001b[0m\u001b[0;34m.\u001b[0m\u001b[0mget_loc\u001b[0m\u001b[0;34m(\u001b[0m\u001b[0mcasted_key\u001b[0m\u001b[0;34m)\u001b[0m\u001b[0;34m\u001b[0m\u001b[0;34m\u001b[0m\u001b[0m\n\u001b[0m\u001b[1;32m   3081\u001b[0m             \u001b[0;32mexcept\u001b[0m \u001b[0mKeyError\u001b[0m \u001b[0;32mas\u001b[0m \u001b[0merr\u001b[0m\u001b[0;34m:\u001b[0m\u001b[0;34m\u001b[0m\u001b[0;34m\u001b[0m\u001b[0m\n",
      "\u001b[0;32mpandas/_libs/index.pyx\u001b[0m in \u001b[0;36mpandas._libs.index.IndexEngine.get_loc\u001b[0;34m()\u001b[0m\n",
      "\u001b[0;32mpandas/_libs/index.pyx\u001b[0m in \u001b[0;36mpandas._libs.index.IndexEngine.get_loc\u001b[0;34m()\u001b[0m\n",
      "\u001b[0;32mpandas/_libs/hashtable_class_helper.pxi\u001b[0m in \u001b[0;36mpandas._libs.hashtable.PyObjectHashTable.get_item\u001b[0;34m()\u001b[0m\n",
      "\u001b[0;32mpandas/_libs/hashtable_class_helper.pxi\u001b[0m in \u001b[0;36mpandas._libs.hashtable.PyObjectHashTable.get_item\u001b[0;34m()\u001b[0m\n",
      "\u001b[0;31mKeyError\u001b[0m: 'POS'",
      "\nThe above exception was the direct cause of the following exception:\n",
      "\u001b[0;31mKeyError\u001b[0m                                  Traceback (most recent call last)",
      "\u001b[0;32m<ipython-input-128-429b23603f6e>\u001b[0m in \u001b[0;36m<module>\u001b[0;34m\u001b[0m\n\u001b[0;32m----> 1\u001b[0;31m \u001b[0mplot_timeline\u001b[0m\u001b[0;34m(\u001b[0m\u001b[0mmain_ds\u001b[0m\u001b[0;34m,\u001b[0m \u001b[0mfeatures\u001b[0m\u001b[0;34m=\u001b[0m\u001b[0;34m[\u001b[0m\u001b[0;34m'POS'\u001b[0m\u001b[0;34m]\u001b[0m\u001b[0;34m)\u001b[0m\u001b[0;34m\u001b[0m\u001b[0;34m\u001b[0m\u001b[0m\n\u001b[0m",
      "\u001b[0;32m<ipython-input-72-f172a956bc8d>\u001b[0m in \u001b[0;36mplot_timeline\u001b[0;34m(df, features, cities)\u001b[0m\n\u001b[1;32m      6\u001b[0m         \u001b[0mcity_data\u001b[0m \u001b[0;34m=\u001b[0m \u001b[0mdf\u001b[0m\u001b[0;34m[\u001b[0m\u001b[0mdf\u001b[0m\u001b[0;34m.\u001b[0m\u001b[0mDISTRICT_NAME\u001b[0m\u001b[0;34m==\u001b[0m\u001b[0mcity\u001b[0m\u001b[0;34m]\u001b[0m\u001b[0;34m\u001b[0m\u001b[0;34m\u001b[0m\u001b[0m\n\u001b[1;32m      7\u001b[0m         \u001b[0;32mfor\u001b[0m \u001b[0mfeature\u001b[0m \u001b[0;32min\u001b[0m \u001b[0mfeatures\u001b[0m\u001b[0;34m:\u001b[0m\u001b[0;34m\u001b[0m\u001b[0;34m\u001b[0m\u001b[0m\n\u001b[0;32m----> 8\u001b[0;31m             fig.add_trace(go.Scatter(x=city_data.DATE, y=city_data[feature],\n\u001b[0m\u001b[1;32m      9\u001b[0m                                     name=f'{city} - {feature}'))\n\u001b[1;32m     10\u001b[0m     \u001b[0mfig\u001b[0m\u001b[0;34m.\u001b[0m\u001b[0mshow\u001b[0m\u001b[0;34m(\u001b[0m\u001b[0;34m)\u001b[0m\u001b[0;34m\u001b[0m\u001b[0;34m\u001b[0m\u001b[0m\n",
      "\u001b[0;32m~/miniconda/lib/python3.8/site-packages/pandas/core/frame.py\u001b[0m in \u001b[0;36m__getitem__\u001b[0;34m(self, key)\u001b[0m\n\u001b[1;32m   3022\u001b[0m             \u001b[0;32mif\u001b[0m \u001b[0mself\u001b[0m\u001b[0;34m.\u001b[0m\u001b[0mcolumns\u001b[0m\u001b[0;34m.\u001b[0m\u001b[0mnlevels\u001b[0m \u001b[0;34m>\u001b[0m \u001b[0;36m1\u001b[0m\u001b[0;34m:\u001b[0m\u001b[0;34m\u001b[0m\u001b[0;34m\u001b[0m\u001b[0m\n\u001b[1;32m   3023\u001b[0m                 \u001b[0;32mreturn\u001b[0m \u001b[0mself\u001b[0m\u001b[0;34m.\u001b[0m\u001b[0m_getitem_multilevel\u001b[0m\u001b[0;34m(\u001b[0m\u001b[0mkey\u001b[0m\u001b[0;34m)\u001b[0m\u001b[0;34m\u001b[0m\u001b[0;34m\u001b[0m\u001b[0m\n\u001b[0;32m-> 3024\u001b[0;31m             \u001b[0mindexer\u001b[0m \u001b[0;34m=\u001b[0m \u001b[0mself\u001b[0m\u001b[0;34m.\u001b[0m\u001b[0mcolumns\u001b[0m\u001b[0;34m.\u001b[0m\u001b[0mget_loc\u001b[0m\u001b[0;34m(\u001b[0m\u001b[0mkey\u001b[0m\u001b[0;34m)\u001b[0m\u001b[0;34m\u001b[0m\u001b[0;34m\u001b[0m\u001b[0m\n\u001b[0m\u001b[1;32m   3025\u001b[0m             \u001b[0;32mif\u001b[0m \u001b[0mis_integer\u001b[0m\u001b[0;34m(\u001b[0m\u001b[0mindexer\u001b[0m\u001b[0;34m)\u001b[0m\u001b[0;34m:\u001b[0m\u001b[0;34m\u001b[0m\u001b[0;34m\u001b[0m\u001b[0m\n\u001b[1;32m   3026\u001b[0m                 \u001b[0mindexer\u001b[0m \u001b[0;34m=\u001b[0m \u001b[0;34m[\u001b[0m\u001b[0mindexer\u001b[0m\u001b[0;34m]\u001b[0m\u001b[0;34m\u001b[0m\u001b[0;34m\u001b[0m\u001b[0m\n",
      "\u001b[0;32m~/miniconda/lib/python3.8/site-packages/pandas/core/indexes/base.py\u001b[0m in \u001b[0;36mget_loc\u001b[0;34m(self, key, method, tolerance)\u001b[0m\n\u001b[1;32m   3080\u001b[0m                 \u001b[0;32mreturn\u001b[0m \u001b[0mself\u001b[0m\u001b[0;34m.\u001b[0m\u001b[0m_engine\u001b[0m\u001b[0;34m.\u001b[0m\u001b[0mget_loc\u001b[0m\u001b[0;34m(\u001b[0m\u001b[0mcasted_key\u001b[0m\u001b[0;34m)\u001b[0m\u001b[0;34m\u001b[0m\u001b[0;34m\u001b[0m\u001b[0m\n\u001b[1;32m   3081\u001b[0m             \u001b[0;32mexcept\u001b[0m \u001b[0mKeyError\u001b[0m \u001b[0;32mas\u001b[0m \u001b[0merr\u001b[0m\u001b[0;34m:\u001b[0m\u001b[0;34m\u001b[0m\u001b[0;34m\u001b[0m\u001b[0m\n\u001b[0;32m-> 3082\u001b[0;31m                 \u001b[0;32mraise\u001b[0m \u001b[0mKeyError\u001b[0m\u001b[0;34m(\u001b[0m\u001b[0mkey\u001b[0m\u001b[0;34m)\u001b[0m \u001b[0;32mfrom\u001b[0m \u001b[0merr\u001b[0m\u001b[0;34m\u001b[0m\u001b[0;34m\u001b[0m\u001b[0m\n\u001b[0m\u001b[1;32m   3083\u001b[0m \u001b[0;34m\u001b[0m\u001b[0m\n\u001b[1;32m   3084\u001b[0m         \u001b[0;32mif\u001b[0m \u001b[0mtolerance\u001b[0m \u001b[0;32mis\u001b[0m \u001b[0;32mnot\u001b[0m \u001b[0;32mNone\u001b[0m\u001b[0;34m:\u001b[0m\u001b[0;34m\u001b[0m\u001b[0;34m\u001b[0m\u001b[0m\n",
      "\u001b[0;31mKeyError\u001b[0m: 'POS'"
     ]
    }
   ],
   "source": [
    "plot_timeline(main_ds, features=['POS'])"
   ]
  },
  {
   "cell_type": "code",
   "execution_count": 71,
   "id": "9d9b1a53-5c3a-49b8-9a26-19d66cf1c3ec",
   "metadata": {},
   "outputs": [
    {
     "data": {
      "application/vnd.plotly.v1+json": {
       "config": {
        "plotlyServerURL": "https://plot.ly"
       },
       "data": [
        {
         "hovertemplate": "DATE=%{x}<br>ARI_TOTAL=%{y}<extra></extra>",
         "legendgroup": "",
         "line": {
          "color": "#636efa",
          "dash": "solid"
         },
         "mode": "lines",
         "name": "",
         "orientation": "v",
         "showlegend": false,
         "type": "scatter",
         "x": [
          "2015-10-05T00:00:00",
          "2015-10-12T00:00:00",
          "2015-10-19T00:00:00",
          "2015-10-26T00:00:00",
          "2015-11-02T00:00:00",
          "2015-11-09T00:00:00",
          "2015-11-16T00:00:00",
          "2015-11-23T00:00:00",
          "2015-11-30T00:00:00",
          "2015-12-07T00:00:00",
          "2015-12-14T00:00:00",
          "2015-12-21T00:00:00",
          "2015-12-28T00:00:00",
          "2016-01-04T00:00:00",
          "2016-01-04T00:00:00",
          "2016-01-11T00:00:00",
          "2016-01-18T00:00:00",
          "2016-01-25T00:00:00",
          "2016-02-01T00:00:00",
          "2016-02-08T00:00:00",
          "2016-02-15T00:00:00",
          "2016-02-22T00:00:00",
          "2016-02-29T00:00:00",
          "2016-03-07T00:00:00",
          "2016-03-14T00:00:00",
          "2016-03-21T00:00:00",
          "2016-03-28T00:00:00",
          "2016-04-04T00:00:00",
          "2016-04-11T00:00:00",
          "2016-04-18T00:00:00",
          "2016-04-25T00:00:00",
          "2016-05-02T00:00:00",
          "2016-05-09T00:00:00",
          "2016-05-16T00:00:00",
          "2016-05-23T00:00:00",
          "2016-05-30T00:00:00",
          "2016-06-06T00:00:00",
          "2016-06-13T00:00:00",
          "2016-06-20T00:00:00",
          "2016-06-27T00:00:00",
          "2016-07-04T00:00:00",
          "2016-07-11T00:00:00",
          "2016-07-18T00:00:00",
          "2016-07-25T00:00:00",
          "2016-08-01T00:00:00",
          "2016-08-08T00:00:00",
          "2016-08-15T00:00:00",
          "2016-08-22T00:00:00",
          "2016-08-29T00:00:00",
          "2016-09-05T00:00:00",
          "2016-09-12T00:00:00",
          "2016-09-19T00:00:00",
          "2016-09-26T00:00:00",
          "2016-10-03T00:00:00",
          "2016-10-10T00:00:00",
          "2016-10-17T00:00:00",
          "2016-10-24T00:00:00",
          "2016-10-31T00:00:00",
          "2016-11-07T00:00:00",
          "2016-11-14T00:00:00",
          "2016-11-21T00:00:00",
          "2016-11-28T00:00:00",
          "2016-12-05T00:00:00",
          "2016-12-12T00:00:00",
          "2016-12-19T00:00:00",
          "2016-12-26T00:00:00",
          "2017-01-02T00:00:00",
          "2017-01-09T00:00:00",
          "2017-01-16T00:00:00",
          "2017-01-23T00:00:00",
          "2017-01-30T00:00:00",
          "2017-02-06T00:00:00",
          "2017-02-13T00:00:00",
          "2017-02-20T00:00:00",
          "2017-02-27T00:00:00",
          "2017-03-06T00:00:00",
          "2017-03-13T00:00:00",
          "2017-03-20T00:00:00",
          "2017-03-27T00:00:00",
          "2017-04-03T00:00:00",
          "2017-04-10T00:00:00",
          "2017-04-17T00:00:00",
          "2017-04-24T00:00:00",
          "2017-05-01T00:00:00",
          "2017-05-08T00:00:00",
          "2017-05-15T00:00:00",
          "2017-05-22T00:00:00",
          "2017-05-29T00:00:00",
          "2017-06-05T00:00:00",
          "2017-06-12T00:00:00",
          "2017-06-19T00:00:00",
          "2017-06-26T00:00:00",
          "2017-07-03T00:00:00",
          "2017-07-10T00:00:00",
          "2017-07-17T00:00:00",
          "2017-07-24T00:00:00",
          "2017-07-31T00:00:00",
          "2017-08-07T00:00:00",
          "2017-08-14T00:00:00",
          "2017-08-21T00:00:00",
          "2017-08-28T00:00:00",
          "2017-09-04T00:00:00",
          "2017-09-11T00:00:00",
          "2017-09-18T00:00:00",
          "2017-09-25T00:00:00",
          "2017-10-02T00:00:00",
          "2017-10-09T00:00:00",
          "2017-10-16T00:00:00",
          "2017-10-23T00:00:00",
          "2017-10-30T00:00:00",
          "2017-11-06T00:00:00",
          "2017-11-13T00:00:00",
          "2017-11-20T00:00:00",
          "2017-11-27T00:00:00",
          "2017-12-04T00:00:00",
          "2017-12-11T00:00:00",
          "2017-12-18T00:00:00",
          "2017-12-25T00:00:00",
          "2018-01-01T00:00:00",
          "2018-01-08T00:00:00",
          "2018-01-15T00:00:00",
          "2018-01-22T00:00:00",
          "2018-01-29T00:00:00",
          "2018-02-05T00:00:00",
          "2018-02-12T00:00:00",
          "2018-02-19T00:00:00",
          "2018-02-26T00:00:00",
          "2018-03-05T00:00:00",
          "2018-03-12T00:00:00",
          "2018-03-19T00:00:00",
          "2018-03-26T00:00:00",
          "2018-04-02T00:00:00",
          "2018-04-09T00:00:00",
          "2018-04-16T00:00:00",
          "2018-04-23T00:00:00",
          "2018-04-30T00:00:00",
          "2018-05-07T00:00:00",
          "2018-05-14T00:00:00",
          "2018-05-21T00:00:00",
          "2018-05-28T00:00:00",
          "2018-06-04T00:00:00",
          "2018-06-11T00:00:00",
          "2018-06-18T00:00:00",
          "2018-06-25T00:00:00",
          "2018-07-02T00:00:00",
          "2018-07-09T00:00:00",
          "2018-07-16T00:00:00",
          "2018-07-23T00:00:00",
          "2018-07-30T00:00:00",
          "2018-08-06T00:00:00",
          "2018-08-13T00:00:00",
          "2018-08-20T00:00:00",
          "2018-08-27T00:00:00",
          "2018-09-03T00:00:00",
          "2018-09-10T00:00:00",
          "2018-09-17T00:00:00",
          "2018-09-24T00:00:00",
          "2018-10-01T00:00:00",
          "2018-10-08T00:00:00",
          "2018-10-15T00:00:00",
          "2018-10-22T00:00:00",
          "2018-10-29T00:00:00",
          "2018-11-05T00:00:00",
          "2018-11-12T00:00:00",
          "2018-11-19T00:00:00",
          "2018-11-26T00:00:00",
          "2018-12-03T00:00:00",
          "2018-12-10T00:00:00",
          "2018-12-17T00:00:00",
          "2018-12-24T00:00:00",
          "2019-01-07T00:00:00",
          "2019-01-14T00:00:00",
          "2019-01-21T00:00:00",
          "2019-01-28T00:00:00",
          "2019-02-04T00:00:00",
          "2019-02-11T00:00:00",
          "2019-02-18T00:00:00",
          "2019-02-25T00:00:00",
          "2019-03-04T00:00:00",
          "2019-03-11T00:00:00",
          "2019-03-18T00:00:00",
          "2019-03-25T00:00:00",
          "2019-04-01T00:00:00",
          "2019-04-08T00:00:00",
          "2019-04-15T00:00:00",
          "2019-04-22T00:00:00",
          "2019-04-29T00:00:00",
          "2019-05-06T00:00:00",
          "2019-05-13T00:00:00",
          "2019-05-20T00:00:00",
          "2019-05-27T00:00:00",
          "2019-06-03T00:00:00",
          "2019-06-10T00:00:00",
          "2019-06-17T00:00:00",
          "2019-06-24T00:00:00",
          "2019-07-01T00:00:00",
          "2019-07-08T00:00:00",
          "2019-07-15T00:00:00",
          "2019-07-22T00:00:00",
          "2019-07-29T00:00:00",
          "2019-08-05T00:00:00",
          "2019-08-12T00:00:00",
          "2019-08-19T00:00:00",
          "2019-08-26T00:00:00",
          "2019-09-02T00:00:00",
          "2019-09-09T00:00:00",
          "2019-09-16T00:00:00",
          "2019-09-23T00:00:00",
          "2019-09-30T00:00:00"
         ],
         "xaxis": "x",
         "y": [
          40494,
          40141,
          41864,
          40943,
          39998,
          31425,
          34367,
          36020,
          37751,
          39443,
          39963,
          38294,
          37337,
          28211,
          11398,
          43349,
          63377,
          96674,
          84378,
          57328,
          51253,
          31740,
          41074,
          29971,
          40856,
          39168,
          39164,
          38950,
          39526,
          40256,
          40001,
          25848,
          24651,
          25920,
          23928,
          21911,
          19475,
          16339,
          16649,
          16298,
          14676,
          14364,
          14188,
          14492,
          13893,
          14746,
          15978,
          17141,
          20083,
          25836,
          37821,
          42955,
          44783,
          43280,
          43532,
          42594,
          42834,
          36498,
          39049,
          40472,
          42389,
          45971,
          48406,
          52311,
          56189,
          52289,
          16462,
          52411,
          46485,
          47609,
          51160,
          51978,
          50693,
          36217,
          49095,
          41622,
          49476,
          49279,
          44528,
          43263,
          39522,
          38713,
          39903,
          31072,
          24635,
          29903,
          26595,
          25713,
          22095,
          17718,
          18937,
          18773,
          16552,
          15726,
          14979,
          14986,
          15225,
          14626,
          15427,
          16977,
          19325,
          25672,
          39551,
          45877,
          49914,
          50744,
          48795,
          46374,
          47137,
          38938,
          35981,
          40907,
          43471,
          46408,
          47128,
          48098,
          45103,
          42363,
          11862,
          36247,
          40453,
          44776,
          52222,
          54976,
          57757,
          53477,
          62264,
          51410,
          74484,
          70505,
          60819,
          52624,
          46715,
          41631,
          45043,
          21268,
          27307,
          26024,
          25270,
          23621,
          24017,
          14926,
          18549,
          16999,
          16248,
          15958,
          14793,
          14626,
          13438,
          15445,
          15508,
          16976,
          19352,
          23863,
          38180,
          44678,
          45862,
          43933,
          41799,
          41054,
          40659,
          39611,
          31677,
          39002,
          42422,
          45650,
          47602,
          46929,
          46189,
          50647,
          14216,
          39340,
          44008,
          47640,
          58217,
          64038,
          64057,
          57494,
          55489,
          44318,
          50110,
          46383,
          41471,
          38555,
          39008,
          36764,
          35185,
          21610,
          25132,
          28595,
          25830,
          24619,
          21864,
          17940,
          18343,
          17836,
          16949,
          15413,
          15627,
          14888,
          16110,
          15792,
          15879,
          15935,
          17081,
          20611,
          29063,
          40598,
          46717
         ],
         "yaxis": "y"
        }
       ],
       "layout": {
        "legend": {
         "tracegroupgap": 0
        },
        "template": {
         "data": {
          "bar": [
           {
            "error_x": {
             "color": "#2a3f5f"
            },
            "error_y": {
             "color": "#2a3f5f"
            },
            "marker": {
             "line": {
              "color": "#E5ECF6",
              "width": 0.5
             },
             "pattern": {
              "fillmode": "overlay",
              "size": 10,
              "solidity": 0.2
             }
            },
            "type": "bar"
           }
          ],
          "barpolar": [
           {
            "marker": {
             "line": {
              "color": "#E5ECF6",
              "width": 0.5
             },
             "pattern": {
              "fillmode": "overlay",
              "size": 10,
              "solidity": 0.2
             }
            },
            "type": "barpolar"
           }
          ],
          "carpet": [
           {
            "aaxis": {
             "endlinecolor": "#2a3f5f",
             "gridcolor": "white",
             "linecolor": "white",
             "minorgridcolor": "white",
             "startlinecolor": "#2a3f5f"
            },
            "baxis": {
             "endlinecolor": "#2a3f5f",
             "gridcolor": "white",
             "linecolor": "white",
             "minorgridcolor": "white",
             "startlinecolor": "#2a3f5f"
            },
            "type": "carpet"
           }
          ],
          "choropleth": [
           {
            "colorbar": {
             "outlinewidth": 0,
             "ticks": ""
            },
            "type": "choropleth"
           }
          ],
          "contour": [
           {
            "colorbar": {
             "outlinewidth": 0,
             "ticks": ""
            },
            "colorscale": [
             [
              0,
              "#0d0887"
             ],
             [
              0.1111111111111111,
              "#46039f"
             ],
             [
              0.2222222222222222,
              "#7201a8"
             ],
             [
              0.3333333333333333,
              "#9c179e"
             ],
             [
              0.4444444444444444,
              "#bd3786"
             ],
             [
              0.5555555555555556,
              "#d8576b"
             ],
             [
              0.6666666666666666,
              "#ed7953"
             ],
             [
              0.7777777777777778,
              "#fb9f3a"
             ],
             [
              0.8888888888888888,
              "#fdca26"
             ],
             [
              1,
              "#f0f921"
             ]
            ],
            "type": "contour"
           }
          ],
          "contourcarpet": [
           {
            "colorbar": {
             "outlinewidth": 0,
             "ticks": ""
            },
            "type": "contourcarpet"
           }
          ],
          "heatmap": [
           {
            "colorbar": {
             "outlinewidth": 0,
             "ticks": ""
            },
            "colorscale": [
             [
              0,
              "#0d0887"
             ],
             [
              0.1111111111111111,
              "#46039f"
             ],
             [
              0.2222222222222222,
              "#7201a8"
             ],
             [
              0.3333333333333333,
              "#9c179e"
             ],
             [
              0.4444444444444444,
              "#bd3786"
             ],
             [
              0.5555555555555556,
              "#d8576b"
             ],
             [
              0.6666666666666666,
              "#ed7953"
             ],
             [
              0.7777777777777778,
              "#fb9f3a"
             ],
             [
              0.8888888888888888,
              "#fdca26"
             ],
             [
              1,
              "#f0f921"
             ]
            ],
            "type": "heatmap"
           }
          ],
          "heatmapgl": [
           {
            "colorbar": {
             "outlinewidth": 0,
             "ticks": ""
            },
            "colorscale": [
             [
              0,
              "#0d0887"
             ],
             [
              0.1111111111111111,
              "#46039f"
             ],
             [
              0.2222222222222222,
              "#7201a8"
             ],
             [
              0.3333333333333333,
              "#9c179e"
             ],
             [
              0.4444444444444444,
              "#bd3786"
             ],
             [
              0.5555555555555556,
              "#d8576b"
             ],
             [
              0.6666666666666666,
              "#ed7953"
             ],
             [
              0.7777777777777778,
              "#fb9f3a"
             ],
             [
              0.8888888888888888,
              "#fdca26"
             ],
             [
              1,
              "#f0f921"
             ]
            ],
            "type": "heatmapgl"
           }
          ],
          "histogram": [
           {
            "marker": {
             "pattern": {
              "fillmode": "overlay",
              "size": 10,
              "solidity": 0.2
             }
            },
            "type": "histogram"
           }
          ],
          "histogram2d": [
           {
            "colorbar": {
             "outlinewidth": 0,
             "ticks": ""
            },
            "colorscale": [
             [
              0,
              "#0d0887"
             ],
             [
              0.1111111111111111,
              "#46039f"
             ],
             [
              0.2222222222222222,
              "#7201a8"
             ],
             [
              0.3333333333333333,
              "#9c179e"
             ],
             [
              0.4444444444444444,
              "#bd3786"
             ],
             [
              0.5555555555555556,
              "#d8576b"
             ],
             [
              0.6666666666666666,
              "#ed7953"
             ],
             [
              0.7777777777777778,
              "#fb9f3a"
             ],
             [
              0.8888888888888888,
              "#fdca26"
             ],
             [
              1,
              "#f0f921"
             ]
            ],
            "type": "histogram2d"
           }
          ],
          "histogram2dcontour": [
           {
            "colorbar": {
             "outlinewidth": 0,
             "ticks": ""
            },
            "colorscale": [
             [
              0,
              "#0d0887"
             ],
             [
              0.1111111111111111,
              "#46039f"
             ],
             [
              0.2222222222222222,
              "#7201a8"
             ],
             [
              0.3333333333333333,
              "#9c179e"
             ],
             [
              0.4444444444444444,
              "#bd3786"
             ],
             [
              0.5555555555555556,
              "#d8576b"
             ],
             [
              0.6666666666666666,
              "#ed7953"
             ],
             [
              0.7777777777777778,
              "#fb9f3a"
             ],
             [
              0.8888888888888888,
              "#fdca26"
             ],
             [
              1,
              "#f0f921"
             ]
            ],
            "type": "histogram2dcontour"
           }
          ],
          "mesh3d": [
           {
            "colorbar": {
             "outlinewidth": 0,
             "ticks": ""
            },
            "type": "mesh3d"
           }
          ],
          "parcoords": [
           {
            "line": {
             "colorbar": {
              "outlinewidth": 0,
              "ticks": ""
             }
            },
            "type": "parcoords"
           }
          ],
          "pie": [
           {
            "automargin": true,
            "type": "pie"
           }
          ],
          "scatter": [
           {
            "marker": {
             "colorbar": {
              "outlinewidth": 0,
              "ticks": ""
             }
            },
            "type": "scatter"
           }
          ],
          "scatter3d": [
           {
            "line": {
             "colorbar": {
              "outlinewidth": 0,
              "ticks": ""
             }
            },
            "marker": {
             "colorbar": {
              "outlinewidth": 0,
              "ticks": ""
             }
            },
            "type": "scatter3d"
           }
          ],
          "scattercarpet": [
           {
            "marker": {
             "colorbar": {
              "outlinewidth": 0,
              "ticks": ""
             }
            },
            "type": "scattercarpet"
           }
          ],
          "scattergeo": [
           {
            "marker": {
             "colorbar": {
              "outlinewidth": 0,
              "ticks": ""
             }
            },
            "type": "scattergeo"
           }
          ],
          "scattergl": [
           {
            "marker": {
             "colorbar": {
              "outlinewidth": 0,
              "ticks": ""
             }
            },
            "type": "scattergl"
           }
          ],
          "scattermapbox": [
           {
            "marker": {
             "colorbar": {
              "outlinewidth": 0,
              "ticks": ""
             }
            },
            "type": "scattermapbox"
           }
          ],
          "scatterpolar": [
           {
            "marker": {
             "colorbar": {
              "outlinewidth": 0,
              "ticks": ""
             }
            },
            "type": "scatterpolar"
           }
          ],
          "scatterpolargl": [
           {
            "marker": {
             "colorbar": {
              "outlinewidth": 0,
              "ticks": ""
             }
            },
            "type": "scatterpolargl"
           }
          ],
          "scatterternary": [
           {
            "marker": {
             "colorbar": {
              "outlinewidth": 0,
              "ticks": ""
             }
            },
            "type": "scatterternary"
           }
          ],
          "surface": [
           {
            "colorbar": {
             "outlinewidth": 0,
             "ticks": ""
            },
            "colorscale": [
             [
              0,
              "#0d0887"
             ],
             [
              0.1111111111111111,
              "#46039f"
             ],
             [
              0.2222222222222222,
              "#7201a8"
             ],
             [
              0.3333333333333333,
              "#9c179e"
             ],
             [
              0.4444444444444444,
              "#bd3786"
             ],
             [
              0.5555555555555556,
              "#d8576b"
             ],
             [
              0.6666666666666666,
              "#ed7953"
             ],
             [
              0.7777777777777778,
              "#fb9f3a"
             ],
             [
              0.8888888888888888,
              "#fdca26"
             ],
             [
              1,
              "#f0f921"
             ]
            ],
            "type": "surface"
           }
          ],
          "table": [
           {
            "cells": {
             "fill": {
              "color": "#EBF0F8"
             },
             "line": {
              "color": "white"
             }
            },
            "header": {
             "fill": {
              "color": "#C8D4E3"
             },
             "line": {
              "color": "white"
             }
            },
            "type": "table"
           }
          ]
         },
         "layout": {
          "annotationdefaults": {
           "arrowcolor": "#2a3f5f",
           "arrowhead": 0,
           "arrowwidth": 1
          },
          "autotypenumbers": "strict",
          "coloraxis": {
           "colorbar": {
            "outlinewidth": 0,
            "ticks": ""
           }
          },
          "colorscale": {
           "diverging": [
            [
             0,
             "#8e0152"
            ],
            [
             0.1,
             "#c51b7d"
            ],
            [
             0.2,
             "#de77ae"
            ],
            [
             0.3,
             "#f1b6da"
            ],
            [
             0.4,
             "#fde0ef"
            ],
            [
             0.5,
             "#f7f7f7"
            ],
            [
             0.6,
             "#e6f5d0"
            ],
            [
             0.7,
             "#b8e186"
            ],
            [
             0.8,
             "#7fbc41"
            ],
            [
             0.9,
             "#4d9221"
            ],
            [
             1,
             "#276419"
            ]
           ],
           "sequential": [
            [
             0,
             "#0d0887"
            ],
            [
             0.1111111111111111,
             "#46039f"
            ],
            [
             0.2222222222222222,
             "#7201a8"
            ],
            [
             0.3333333333333333,
             "#9c179e"
            ],
            [
             0.4444444444444444,
             "#bd3786"
            ],
            [
             0.5555555555555556,
             "#d8576b"
            ],
            [
             0.6666666666666666,
             "#ed7953"
            ],
            [
             0.7777777777777778,
             "#fb9f3a"
            ],
            [
             0.8888888888888888,
             "#fdca26"
            ],
            [
             1,
             "#f0f921"
            ]
           ],
           "sequentialminus": [
            [
             0,
             "#0d0887"
            ],
            [
             0.1111111111111111,
             "#46039f"
            ],
            [
             0.2222222222222222,
             "#7201a8"
            ],
            [
             0.3333333333333333,
             "#9c179e"
            ],
            [
             0.4444444444444444,
             "#bd3786"
            ],
            [
             0.5555555555555556,
             "#d8576b"
            ],
            [
             0.6666666666666666,
             "#ed7953"
            ],
            [
             0.7777777777777778,
             "#fb9f3a"
            ],
            [
             0.8888888888888888,
             "#fdca26"
            ],
            [
             1,
             "#f0f921"
            ]
           ]
          },
          "colorway": [
           "#636efa",
           "#EF553B",
           "#00cc96",
           "#ab63fa",
           "#FFA15A",
           "#19d3f3",
           "#FF6692",
           "#B6E880",
           "#FF97FF",
           "#FECB52"
          ],
          "font": {
           "color": "#2a3f5f"
          },
          "geo": {
           "bgcolor": "white",
           "lakecolor": "white",
           "landcolor": "#E5ECF6",
           "showlakes": true,
           "showland": true,
           "subunitcolor": "white"
          },
          "hoverlabel": {
           "align": "left"
          },
          "hovermode": "closest",
          "mapbox": {
           "style": "light"
          },
          "paper_bgcolor": "white",
          "plot_bgcolor": "#E5ECF6",
          "polar": {
           "angularaxis": {
            "gridcolor": "white",
            "linecolor": "white",
            "ticks": ""
           },
           "bgcolor": "#E5ECF6",
           "radialaxis": {
            "gridcolor": "white",
            "linecolor": "white",
            "ticks": ""
           }
          },
          "scene": {
           "xaxis": {
            "backgroundcolor": "#E5ECF6",
            "gridcolor": "white",
            "gridwidth": 2,
            "linecolor": "white",
            "showbackground": true,
            "ticks": "",
            "zerolinecolor": "white"
           },
           "yaxis": {
            "backgroundcolor": "#E5ECF6",
            "gridcolor": "white",
            "gridwidth": 2,
            "linecolor": "white",
            "showbackground": true,
            "ticks": "",
            "zerolinecolor": "white"
           },
           "zaxis": {
            "backgroundcolor": "#E5ECF6",
            "gridcolor": "white",
            "gridwidth": 2,
            "linecolor": "white",
            "showbackground": true,
            "ticks": "",
            "zerolinecolor": "white"
           }
          },
          "shapedefaults": {
           "line": {
            "color": "#2a3f5f"
           }
          },
          "ternary": {
           "aaxis": {
            "gridcolor": "white",
            "linecolor": "white",
            "ticks": ""
           },
           "baxis": {
            "gridcolor": "white",
            "linecolor": "white",
            "ticks": ""
           },
           "bgcolor": "#E5ECF6",
           "caxis": {
            "gridcolor": "white",
            "linecolor": "white",
            "ticks": ""
           }
          },
          "title": {
           "x": 0.05
          },
          "xaxis": {
           "automargin": true,
           "gridcolor": "white",
           "linecolor": "white",
           "ticks": "",
           "title": {
            "standoff": 15
           },
           "zerolinecolor": "white",
           "zerolinewidth": 2
          },
          "yaxis": {
           "automargin": true,
           "gridcolor": "white",
           "linecolor": "white",
           "ticks": "",
           "title": {
            "standoff": 15
           },
           "zerolinecolor": "white",
           "zerolinewidth": 2
          }
         }
        },
        "title": {
         "text": "ILI_TOTAL in Москва"
        },
        "xaxis": {
         "anchor": "y",
         "domain": [
          0,
          1
         ],
         "title": {
          "text": "DATE"
         }
        },
        "yaxis": {
         "anchor": "x",
         "domain": [
          0,
          1
         ],
         "title": {
          "text": "ARI_TOTAL"
         }
        }
       }
      },
      "text/html": [
       "<div>                            <div id=\"00fce1c3-3983-46a7-8666-a72378f414b1\" class=\"plotly-graph-div\" style=\"height:525px; width:100%;\"></div>            <script type=\"text/javascript\">                require([\"plotly\"], function(Plotly) {                    window.PLOTLYENV=window.PLOTLYENV || {};                                    if (document.getElementById(\"00fce1c3-3983-46a7-8666-a72378f414b1\")) {                    Plotly.newPlot(                        \"00fce1c3-3983-46a7-8666-a72378f414b1\",                        [{\"hovertemplate\":\"DATE=%{x}<br>ARI_TOTAL=%{y}<extra></extra>\",\"legendgroup\":\"\",\"line\":{\"color\":\"#636efa\",\"dash\":\"solid\"},\"mode\":\"lines\",\"name\":\"\",\"orientation\":\"v\",\"showlegend\":false,\"type\":\"scatter\",\"x\":[\"2015-10-05T00:00:00\",\"2015-10-12T00:00:00\",\"2015-10-19T00:00:00\",\"2015-10-26T00:00:00\",\"2015-11-02T00:00:00\",\"2015-11-09T00:00:00\",\"2015-11-16T00:00:00\",\"2015-11-23T00:00:00\",\"2015-11-30T00:00:00\",\"2015-12-07T00:00:00\",\"2015-12-14T00:00:00\",\"2015-12-21T00:00:00\",\"2015-12-28T00:00:00\",\"2016-01-04T00:00:00\",\"2016-01-04T00:00:00\",\"2016-01-11T00:00:00\",\"2016-01-18T00:00:00\",\"2016-01-25T00:00:00\",\"2016-02-01T00:00:00\",\"2016-02-08T00:00:00\",\"2016-02-15T00:00:00\",\"2016-02-22T00:00:00\",\"2016-02-29T00:00:00\",\"2016-03-07T00:00:00\",\"2016-03-14T00:00:00\",\"2016-03-21T00:00:00\",\"2016-03-28T00:00:00\",\"2016-04-04T00:00:00\",\"2016-04-11T00:00:00\",\"2016-04-18T00:00:00\",\"2016-04-25T00:00:00\",\"2016-05-02T00:00:00\",\"2016-05-09T00:00:00\",\"2016-05-16T00:00:00\",\"2016-05-23T00:00:00\",\"2016-05-30T00:00:00\",\"2016-06-06T00:00:00\",\"2016-06-13T00:00:00\",\"2016-06-20T00:00:00\",\"2016-06-27T00:00:00\",\"2016-07-04T00:00:00\",\"2016-07-11T00:00:00\",\"2016-07-18T00:00:00\",\"2016-07-25T00:00:00\",\"2016-08-01T00:00:00\",\"2016-08-08T00:00:00\",\"2016-08-15T00:00:00\",\"2016-08-22T00:00:00\",\"2016-08-29T00:00:00\",\"2016-09-05T00:00:00\",\"2016-09-12T00:00:00\",\"2016-09-19T00:00:00\",\"2016-09-26T00:00:00\",\"2016-10-03T00:00:00\",\"2016-10-10T00:00:00\",\"2016-10-17T00:00:00\",\"2016-10-24T00:00:00\",\"2016-10-31T00:00:00\",\"2016-11-07T00:00:00\",\"2016-11-14T00:00:00\",\"2016-11-21T00:00:00\",\"2016-11-28T00:00:00\",\"2016-12-05T00:00:00\",\"2016-12-12T00:00:00\",\"2016-12-19T00:00:00\",\"2016-12-26T00:00:00\",\"2017-01-02T00:00:00\",\"2017-01-09T00:00:00\",\"2017-01-16T00:00:00\",\"2017-01-23T00:00:00\",\"2017-01-30T00:00:00\",\"2017-02-06T00:00:00\",\"2017-02-13T00:00:00\",\"2017-02-20T00:00:00\",\"2017-02-27T00:00:00\",\"2017-03-06T00:00:00\",\"2017-03-13T00:00:00\",\"2017-03-20T00:00:00\",\"2017-03-27T00:00:00\",\"2017-04-03T00:00:00\",\"2017-04-10T00:00:00\",\"2017-04-17T00:00:00\",\"2017-04-24T00:00:00\",\"2017-05-01T00:00:00\",\"2017-05-08T00:00:00\",\"2017-05-15T00:00:00\",\"2017-05-22T00:00:00\",\"2017-05-29T00:00:00\",\"2017-06-05T00:00:00\",\"2017-06-12T00:00:00\",\"2017-06-19T00:00:00\",\"2017-06-26T00:00:00\",\"2017-07-03T00:00:00\",\"2017-07-10T00:00:00\",\"2017-07-17T00:00:00\",\"2017-07-24T00:00:00\",\"2017-07-31T00:00:00\",\"2017-08-07T00:00:00\",\"2017-08-14T00:00:00\",\"2017-08-21T00:00:00\",\"2017-08-28T00:00:00\",\"2017-09-04T00:00:00\",\"2017-09-11T00:00:00\",\"2017-09-18T00:00:00\",\"2017-09-25T00:00:00\",\"2017-10-02T00:00:00\",\"2017-10-09T00:00:00\",\"2017-10-16T00:00:00\",\"2017-10-23T00:00:00\",\"2017-10-30T00:00:00\",\"2017-11-06T00:00:00\",\"2017-11-13T00:00:00\",\"2017-11-20T00:00:00\",\"2017-11-27T00:00:00\",\"2017-12-04T00:00:00\",\"2017-12-11T00:00:00\",\"2017-12-18T00:00:00\",\"2017-12-25T00:00:00\",\"2018-01-01T00:00:00\",\"2018-01-08T00:00:00\",\"2018-01-15T00:00:00\",\"2018-01-22T00:00:00\",\"2018-01-29T00:00:00\",\"2018-02-05T00:00:00\",\"2018-02-12T00:00:00\",\"2018-02-19T00:00:00\",\"2018-02-26T00:00:00\",\"2018-03-05T00:00:00\",\"2018-03-12T00:00:00\",\"2018-03-19T00:00:00\",\"2018-03-26T00:00:00\",\"2018-04-02T00:00:00\",\"2018-04-09T00:00:00\",\"2018-04-16T00:00:00\",\"2018-04-23T00:00:00\",\"2018-04-30T00:00:00\",\"2018-05-07T00:00:00\",\"2018-05-14T00:00:00\",\"2018-05-21T00:00:00\",\"2018-05-28T00:00:00\",\"2018-06-04T00:00:00\",\"2018-06-11T00:00:00\",\"2018-06-18T00:00:00\",\"2018-06-25T00:00:00\",\"2018-07-02T00:00:00\",\"2018-07-09T00:00:00\",\"2018-07-16T00:00:00\",\"2018-07-23T00:00:00\",\"2018-07-30T00:00:00\",\"2018-08-06T00:00:00\",\"2018-08-13T00:00:00\",\"2018-08-20T00:00:00\",\"2018-08-27T00:00:00\",\"2018-09-03T00:00:00\",\"2018-09-10T00:00:00\",\"2018-09-17T00:00:00\",\"2018-09-24T00:00:00\",\"2018-10-01T00:00:00\",\"2018-10-08T00:00:00\",\"2018-10-15T00:00:00\",\"2018-10-22T00:00:00\",\"2018-10-29T00:00:00\",\"2018-11-05T00:00:00\",\"2018-11-12T00:00:00\",\"2018-11-19T00:00:00\",\"2018-11-26T00:00:00\",\"2018-12-03T00:00:00\",\"2018-12-10T00:00:00\",\"2018-12-17T00:00:00\",\"2018-12-24T00:00:00\",\"2019-01-07T00:00:00\",\"2019-01-14T00:00:00\",\"2019-01-21T00:00:00\",\"2019-01-28T00:00:00\",\"2019-02-04T00:00:00\",\"2019-02-11T00:00:00\",\"2019-02-18T00:00:00\",\"2019-02-25T00:00:00\",\"2019-03-04T00:00:00\",\"2019-03-11T00:00:00\",\"2019-03-18T00:00:00\",\"2019-03-25T00:00:00\",\"2019-04-01T00:00:00\",\"2019-04-08T00:00:00\",\"2019-04-15T00:00:00\",\"2019-04-22T00:00:00\",\"2019-04-29T00:00:00\",\"2019-05-06T00:00:00\",\"2019-05-13T00:00:00\",\"2019-05-20T00:00:00\",\"2019-05-27T00:00:00\",\"2019-06-03T00:00:00\",\"2019-06-10T00:00:00\",\"2019-06-17T00:00:00\",\"2019-06-24T00:00:00\",\"2019-07-01T00:00:00\",\"2019-07-08T00:00:00\",\"2019-07-15T00:00:00\",\"2019-07-22T00:00:00\",\"2019-07-29T00:00:00\",\"2019-08-05T00:00:00\",\"2019-08-12T00:00:00\",\"2019-08-19T00:00:00\",\"2019-08-26T00:00:00\",\"2019-09-02T00:00:00\",\"2019-09-09T00:00:00\",\"2019-09-16T00:00:00\",\"2019-09-23T00:00:00\",\"2019-09-30T00:00:00\"],\"xaxis\":\"x\",\"y\":[40494,40141,41864,40943,39998,31425,34367,36020,37751,39443,39963,38294,37337,28211,11398,43349,63377,96674,84378,57328,51253,31740,41074,29971,40856,39168,39164,38950,39526,40256,40001,25848,24651,25920,23928,21911,19475,16339,16649,16298,14676,14364,14188,14492,13893,14746,15978,17141,20083,25836,37821,42955,44783,43280,43532,42594,42834,36498,39049,40472,42389,45971,48406,52311,56189,52289,16462,52411,46485,47609,51160,51978,50693,36217,49095,41622,49476,49279,44528,43263,39522,38713,39903,31072,24635,29903,26595,25713,22095,17718,18937,18773,16552,15726,14979,14986,15225,14626,15427,16977,19325,25672,39551,45877,49914,50744,48795,46374,47137,38938,35981,40907,43471,46408,47128,48098,45103,42363,11862,36247,40453,44776,52222,54976,57757,53477,62264,51410,74484,70505,60819,52624,46715,41631,45043,21268,27307,26024,25270,23621,24017,14926,18549,16999,16248,15958,14793,14626,13438,15445,15508,16976,19352,23863,38180,44678,45862,43933,41799,41054,40659,39611,31677,39002,42422,45650,47602,46929,46189,50647,14216,39340,44008,47640,58217,64038,64057,57494,55489,44318,50110,46383,41471,38555,39008,36764,35185,21610,25132,28595,25830,24619,21864,17940,18343,17836,16949,15413,15627,14888,16110,15792,15879,15935,17081,20611,29063,40598,46717],\"yaxis\":\"y\"}],                        {\"legend\":{\"tracegroupgap\":0},\"template\":{\"data\":{\"bar\":[{\"error_x\":{\"color\":\"#2a3f5f\"},\"error_y\":{\"color\":\"#2a3f5f\"},\"marker\":{\"line\":{\"color\":\"#E5ECF6\",\"width\":0.5},\"pattern\":{\"fillmode\":\"overlay\",\"size\":10,\"solidity\":0.2}},\"type\":\"bar\"}],\"barpolar\":[{\"marker\":{\"line\":{\"color\":\"#E5ECF6\",\"width\":0.5},\"pattern\":{\"fillmode\":\"overlay\",\"size\":10,\"solidity\":0.2}},\"type\":\"barpolar\"}],\"carpet\":[{\"aaxis\":{\"endlinecolor\":\"#2a3f5f\",\"gridcolor\":\"white\",\"linecolor\":\"white\",\"minorgridcolor\":\"white\",\"startlinecolor\":\"#2a3f5f\"},\"baxis\":{\"endlinecolor\":\"#2a3f5f\",\"gridcolor\":\"white\",\"linecolor\":\"white\",\"minorgridcolor\":\"white\",\"startlinecolor\":\"#2a3f5f\"},\"type\":\"carpet\"}],\"choropleth\":[{\"colorbar\":{\"outlinewidth\":0,\"ticks\":\"\"},\"type\":\"choropleth\"}],\"contour\":[{\"colorbar\":{\"outlinewidth\":0,\"ticks\":\"\"},\"colorscale\":[[0.0,\"#0d0887\"],[0.1111111111111111,\"#46039f\"],[0.2222222222222222,\"#7201a8\"],[0.3333333333333333,\"#9c179e\"],[0.4444444444444444,\"#bd3786\"],[0.5555555555555556,\"#d8576b\"],[0.6666666666666666,\"#ed7953\"],[0.7777777777777778,\"#fb9f3a\"],[0.8888888888888888,\"#fdca26\"],[1.0,\"#f0f921\"]],\"type\":\"contour\"}],\"contourcarpet\":[{\"colorbar\":{\"outlinewidth\":0,\"ticks\":\"\"},\"type\":\"contourcarpet\"}],\"heatmap\":[{\"colorbar\":{\"outlinewidth\":0,\"ticks\":\"\"},\"colorscale\":[[0.0,\"#0d0887\"],[0.1111111111111111,\"#46039f\"],[0.2222222222222222,\"#7201a8\"],[0.3333333333333333,\"#9c179e\"],[0.4444444444444444,\"#bd3786\"],[0.5555555555555556,\"#d8576b\"],[0.6666666666666666,\"#ed7953\"],[0.7777777777777778,\"#fb9f3a\"],[0.8888888888888888,\"#fdca26\"],[1.0,\"#f0f921\"]],\"type\":\"heatmap\"}],\"heatmapgl\":[{\"colorbar\":{\"outlinewidth\":0,\"ticks\":\"\"},\"colorscale\":[[0.0,\"#0d0887\"],[0.1111111111111111,\"#46039f\"],[0.2222222222222222,\"#7201a8\"],[0.3333333333333333,\"#9c179e\"],[0.4444444444444444,\"#bd3786\"],[0.5555555555555556,\"#d8576b\"],[0.6666666666666666,\"#ed7953\"],[0.7777777777777778,\"#fb9f3a\"],[0.8888888888888888,\"#fdca26\"],[1.0,\"#f0f921\"]],\"type\":\"heatmapgl\"}],\"histogram\":[{\"marker\":{\"pattern\":{\"fillmode\":\"overlay\",\"size\":10,\"solidity\":0.2}},\"type\":\"histogram\"}],\"histogram2d\":[{\"colorbar\":{\"outlinewidth\":0,\"ticks\":\"\"},\"colorscale\":[[0.0,\"#0d0887\"],[0.1111111111111111,\"#46039f\"],[0.2222222222222222,\"#7201a8\"],[0.3333333333333333,\"#9c179e\"],[0.4444444444444444,\"#bd3786\"],[0.5555555555555556,\"#d8576b\"],[0.6666666666666666,\"#ed7953\"],[0.7777777777777778,\"#fb9f3a\"],[0.8888888888888888,\"#fdca26\"],[1.0,\"#f0f921\"]],\"type\":\"histogram2d\"}],\"histogram2dcontour\":[{\"colorbar\":{\"outlinewidth\":0,\"ticks\":\"\"},\"colorscale\":[[0.0,\"#0d0887\"],[0.1111111111111111,\"#46039f\"],[0.2222222222222222,\"#7201a8\"],[0.3333333333333333,\"#9c179e\"],[0.4444444444444444,\"#bd3786\"],[0.5555555555555556,\"#d8576b\"],[0.6666666666666666,\"#ed7953\"],[0.7777777777777778,\"#fb9f3a\"],[0.8888888888888888,\"#fdca26\"],[1.0,\"#f0f921\"]],\"type\":\"histogram2dcontour\"}],\"mesh3d\":[{\"colorbar\":{\"outlinewidth\":0,\"ticks\":\"\"},\"type\":\"mesh3d\"}],\"parcoords\":[{\"line\":{\"colorbar\":{\"outlinewidth\":0,\"ticks\":\"\"}},\"type\":\"parcoords\"}],\"pie\":[{\"automargin\":true,\"type\":\"pie\"}],\"scatter\":[{\"marker\":{\"colorbar\":{\"outlinewidth\":0,\"ticks\":\"\"}},\"type\":\"scatter\"}],\"scatter3d\":[{\"line\":{\"colorbar\":{\"outlinewidth\":0,\"ticks\":\"\"}},\"marker\":{\"colorbar\":{\"outlinewidth\":0,\"ticks\":\"\"}},\"type\":\"scatter3d\"}],\"scattercarpet\":[{\"marker\":{\"colorbar\":{\"outlinewidth\":0,\"ticks\":\"\"}},\"type\":\"scattercarpet\"}],\"scattergeo\":[{\"marker\":{\"colorbar\":{\"outlinewidth\":0,\"ticks\":\"\"}},\"type\":\"scattergeo\"}],\"scattergl\":[{\"marker\":{\"colorbar\":{\"outlinewidth\":0,\"ticks\":\"\"}},\"type\":\"scattergl\"}],\"scattermapbox\":[{\"marker\":{\"colorbar\":{\"outlinewidth\":0,\"ticks\":\"\"}},\"type\":\"scattermapbox\"}],\"scatterpolar\":[{\"marker\":{\"colorbar\":{\"outlinewidth\":0,\"ticks\":\"\"}},\"type\":\"scatterpolar\"}],\"scatterpolargl\":[{\"marker\":{\"colorbar\":{\"outlinewidth\":0,\"ticks\":\"\"}},\"type\":\"scatterpolargl\"}],\"scatterternary\":[{\"marker\":{\"colorbar\":{\"outlinewidth\":0,\"ticks\":\"\"}},\"type\":\"scatterternary\"}],\"surface\":[{\"colorbar\":{\"outlinewidth\":0,\"ticks\":\"\"},\"colorscale\":[[0.0,\"#0d0887\"],[0.1111111111111111,\"#46039f\"],[0.2222222222222222,\"#7201a8\"],[0.3333333333333333,\"#9c179e\"],[0.4444444444444444,\"#bd3786\"],[0.5555555555555556,\"#d8576b\"],[0.6666666666666666,\"#ed7953\"],[0.7777777777777778,\"#fb9f3a\"],[0.8888888888888888,\"#fdca26\"],[1.0,\"#f0f921\"]],\"type\":\"surface\"}],\"table\":[{\"cells\":{\"fill\":{\"color\":\"#EBF0F8\"},\"line\":{\"color\":\"white\"}},\"header\":{\"fill\":{\"color\":\"#C8D4E3\"},\"line\":{\"color\":\"white\"}},\"type\":\"table\"}]},\"layout\":{\"annotationdefaults\":{\"arrowcolor\":\"#2a3f5f\",\"arrowhead\":0,\"arrowwidth\":1},\"autotypenumbers\":\"strict\",\"coloraxis\":{\"colorbar\":{\"outlinewidth\":0,\"ticks\":\"\"}},\"colorscale\":{\"diverging\":[[0,\"#8e0152\"],[0.1,\"#c51b7d\"],[0.2,\"#de77ae\"],[0.3,\"#f1b6da\"],[0.4,\"#fde0ef\"],[0.5,\"#f7f7f7\"],[0.6,\"#e6f5d0\"],[0.7,\"#b8e186\"],[0.8,\"#7fbc41\"],[0.9,\"#4d9221\"],[1,\"#276419\"]],\"sequential\":[[0.0,\"#0d0887\"],[0.1111111111111111,\"#46039f\"],[0.2222222222222222,\"#7201a8\"],[0.3333333333333333,\"#9c179e\"],[0.4444444444444444,\"#bd3786\"],[0.5555555555555556,\"#d8576b\"],[0.6666666666666666,\"#ed7953\"],[0.7777777777777778,\"#fb9f3a\"],[0.8888888888888888,\"#fdca26\"],[1.0,\"#f0f921\"]],\"sequentialminus\":[[0.0,\"#0d0887\"],[0.1111111111111111,\"#46039f\"],[0.2222222222222222,\"#7201a8\"],[0.3333333333333333,\"#9c179e\"],[0.4444444444444444,\"#bd3786\"],[0.5555555555555556,\"#d8576b\"],[0.6666666666666666,\"#ed7953\"],[0.7777777777777778,\"#fb9f3a\"],[0.8888888888888888,\"#fdca26\"],[1.0,\"#f0f921\"]]},\"colorway\":[\"#636efa\",\"#EF553B\",\"#00cc96\",\"#ab63fa\",\"#FFA15A\",\"#19d3f3\",\"#FF6692\",\"#B6E880\",\"#FF97FF\",\"#FECB52\"],\"font\":{\"color\":\"#2a3f5f\"},\"geo\":{\"bgcolor\":\"white\",\"lakecolor\":\"white\",\"landcolor\":\"#E5ECF6\",\"showlakes\":true,\"showland\":true,\"subunitcolor\":\"white\"},\"hoverlabel\":{\"align\":\"left\"},\"hovermode\":\"closest\",\"mapbox\":{\"style\":\"light\"},\"paper_bgcolor\":\"white\",\"plot_bgcolor\":\"#E5ECF6\",\"polar\":{\"angularaxis\":{\"gridcolor\":\"white\",\"linecolor\":\"white\",\"ticks\":\"\"},\"bgcolor\":\"#E5ECF6\",\"radialaxis\":{\"gridcolor\":\"white\",\"linecolor\":\"white\",\"ticks\":\"\"}},\"scene\":{\"xaxis\":{\"backgroundcolor\":\"#E5ECF6\",\"gridcolor\":\"white\",\"gridwidth\":2,\"linecolor\":\"white\",\"showbackground\":true,\"ticks\":\"\",\"zerolinecolor\":\"white\"},\"yaxis\":{\"backgroundcolor\":\"#E5ECF6\",\"gridcolor\":\"white\",\"gridwidth\":2,\"linecolor\":\"white\",\"showbackground\":true,\"ticks\":\"\",\"zerolinecolor\":\"white\"},\"zaxis\":{\"backgroundcolor\":\"#E5ECF6\",\"gridcolor\":\"white\",\"gridwidth\":2,\"linecolor\":\"white\",\"showbackground\":true,\"ticks\":\"\",\"zerolinecolor\":\"white\"}},\"shapedefaults\":{\"line\":{\"color\":\"#2a3f5f\"}},\"ternary\":{\"aaxis\":{\"gridcolor\":\"white\",\"linecolor\":\"white\",\"ticks\":\"\"},\"baxis\":{\"gridcolor\":\"white\",\"linecolor\":\"white\",\"ticks\":\"\"},\"bgcolor\":\"#E5ECF6\",\"caxis\":{\"gridcolor\":\"white\",\"linecolor\":\"white\",\"ticks\":\"\"}},\"title\":{\"x\":0.05},\"xaxis\":{\"automargin\":true,\"gridcolor\":\"white\",\"linecolor\":\"white\",\"ticks\":\"\",\"title\":{\"standoff\":15},\"zerolinecolor\":\"white\",\"zerolinewidth\":2},\"yaxis\":{\"automargin\":true,\"gridcolor\":\"white\",\"linecolor\":\"white\",\"ticks\":\"\",\"title\":{\"standoff\":15},\"zerolinecolor\":\"white\",\"zerolinewidth\":2}}},\"title\":{\"text\":\"ILI_TOTAL in \\u041c\\u043e\\u0441\\u043a\\u0432\\u0430\"},\"xaxis\":{\"anchor\":\"y\",\"domain\":[0.0,1.0],\"title\":{\"text\":\"DATE\"}},\"yaxis\":{\"anchor\":\"x\",\"domain\":[0.0,1.0],\"title\":{\"text\":\"ARI_TOTAL\"}}},                        {\"responsive\": true}                    ).then(function(){\n",
       "                            \n",
       "var gd = document.getElementById('00fce1c3-3983-46a7-8666-a72378f414b1');\n",
       "var x = new MutationObserver(function (mutations, observer) {{\n",
       "        var display = window.getComputedStyle(gd).display;\n",
       "        if (!display || display === 'none') {{\n",
       "            console.log([gd, 'removed!']);\n",
       "            Plotly.purge(gd);\n",
       "            observer.disconnect();\n",
       "        }}\n",
       "}});\n",
       "\n",
       "// Listen for the removal of the full notebook cells\n",
       "var notebookContainer = gd.closest('#notebook-container');\n",
       "if (notebookContainer) {{\n",
       "    x.observe(notebookContainer, {childList: true});\n",
       "}}\n",
       "\n",
       "// Listen for the clearing of the current output cell\n",
       "var outputEl = gd.closest('.output');\n",
       "if (outputEl) {{\n",
       "    x.observe(outputEl, {childList: true});\n",
       "}}\n",
       "\n",
       "                        })                };                });            </script>        </div>"
      ]
     },
     "metadata": {},
     "output_type": "display_data"
    }
   ],
   "source": [
    "tmp = dst_epi_data['Санкт-Петербург']\n",
    "# fig = px.line(epi_ds, x='DATE', y='ARI_TOTAL', title='ILI_TOTAL in Cities', color='DISTRICT_NAME')\n",
    "fig = go.Figure()\n",
    "fig.add_trace(go.Scatter(x=tmp.DATE, y=tmp.ARI_TOTAL))\n",
    "# fig = px.line(tmp, x='DATE', y='ARI_TOTAL', title='ILI_TOTAL in Москва')\n",
    "fig.show()"
   ]
  },
  {
   "cell_type": "code",
   "execution_count": 48,
   "id": "2215a788-aa34-491e-9f79-4461a0d422d5",
   "metadata": {},
   "outputs": [
    {
     "data": {
      "text/html": [
       "<div>\n",
       "<style scoped>\n",
       "    .dataframe tbody tr th:only-of-type {\n",
       "        vertical-align: middle;\n",
       "    }\n",
       "\n",
       "    .dataframe tbody tr th {\n",
       "        vertical-align: top;\n",
       "    }\n",
       "\n",
       "    .dataframe thead th {\n",
       "        text-align: right;\n",
       "    }\n",
       "</style>\n",
       "<table border=\"1\" class=\"dataframe\">\n",
       "  <thead>\n",
       "    <tr style=\"text-align: right;\">\n",
       "      <th></th>\n",
       "      <th>REGION_NAME</th>\n",
       "      <th>DISTRICT_NAME</th>\n",
       "      <th>LPU_NAME</th>\n",
       "      <th>YEAR</th>\n",
       "      <th>WEEK</th>\n",
       "      <th>ARI_0_2</th>\n",
       "      <th>ARI_3_6</th>\n",
       "      <th>ARI_7_14</th>\n",
       "      <th>ARI_15</th>\n",
       "      <th>ARI_TOTAL</th>\n",
       "      <th>ILI_0_2</th>\n",
       "      <th>ILI_3_6</th>\n",
       "      <th>ILI_7_14</th>\n",
       "      <th>ILI_15</th>\n",
       "      <th>ILI_TOTAL</th>\n",
       "      <th>POP_0_2</th>\n",
       "      <th>POP_3_6</th>\n",
       "      <th>POP_7_14</th>\n",
       "      <th>POP_15</th>\n",
       "      <th>POP_TOTAL</th>\n",
       "    </tr>\n",
       "  </thead>\n",
       "  <tbody>\n",
       "    <tr>\n",
       "      <th>0</th>\n",
       "      <td>Дальневосточный ФО</td>\n",
       "      <td>Биробиджан</td>\n",
       "      <td>ЦГиЭ</td>\n",
       "      <td>2015</td>\n",
       "      <td>40</td>\n",
       "      <td>212</td>\n",
       "      <td>163</td>\n",
       "      <td>87</td>\n",
       "      <td>85</td>\n",
       "      <td>547</td>\n",
       "      <td>0</td>\n",
       "      <td>0</td>\n",
       "      <td>0</td>\n",
       "      <td>0</td>\n",
       "      <td>0</td>\n",
       "      <td>2929</td>\n",
       "      <td>3810</td>\n",
       "      <td>6470</td>\n",
       "      <td>61568</td>\n",
       "      <td>74777</td>\n",
       "    </tr>\n",
       "    <tr>\n",
       "      <th>1</th>\n",
       "      <td>Дальневосточный ФО</td>\n",
       "      <td>Владивосток</td>\n",
       "      <td>ЦГиЭ</td>\n",
       "      <td>2015</td>\n",
       "      <td>40</td>\n",
       "      <td>631</td>\n",
       "      <td>811</td>\n",
       "      <td>359</td>\n",
       "      <td>570</td>\n",
       "      <td>2371</td>\n",
       "      <td>0</td>\n",
       "      <td>0</td>\n",
       "      <td>0</td>\n",
       "      <td>0</td>\n",
       "      <td>0</td>\n",
       "      <td>19634</td>\n",
       "      <td>26033</td>\n",
       "      <td>48036</td>\n",
       "      <td>495273</td>\n",
       "      <td>588976</td>\n",
       "    </tr>\n",
       "    <tr>\n",
       "      <th>2</th>\n",
       "      <td>Дальневосточный ФО</td>\n",
       "      <td>Магадан</td>\n",
       "      <td>ЦГиЭ</td>\n",
       "      <td>2015</td>\n",
       "      <td>40</td>\n",
       "      <td>149</td>\n",
       "      <td>200</td>\n",
       "      <td>155</td>\n",
       "      <td>128</td>\n",
       "      <td>632</td>\n",
       "      <td>0</td>\n",
       "      <td>0</td>\n",
       "      <td>0</td>\n",
       "      <td>0</td>\n",
       "      <td>0</td>\n",
       "      <td>3696</td>\n",
       "      <td>4601</td>\n",
       "      <td>8429</td>\n",
       "      <td>84319</td>\n",
       "      <td>101045</td>\n",
       "    </tr>\n",
       "    <tr>\n",
       "      <th>3</th>\n",
       "      <td>Дальневосточный ФО</td>\n",
       "      <td>Петропавловск</td>\n",
       "      <td>ЦГиЭ</td>\n",
       "      <td>2015</td>\n",
       "      <td>40</td>\n",
       "      <td>297</td>\n",
       "      <td>334</td>\n",
       "      <td>226</td>\n",
       "      <td>193</td>\n",
       "      <td>1050</td>\n",
       "      <td>0</td>\n",
       "      <td>0</td>\n",
       "      <td>0</td>\n",
       "      <td>0</td>\n",
       "      <td>0</td>\n",
       "      <td>6754</td>\n",
       "      <td>7979</td>\n",
       "      <td>13889</td>\n",
       "      <td>152393</td>\n",
       "      <td>181015</td>\n",
       "    </tr>\n",
       "    <tr>\n",
       "      <th>4</th>\n",
       "      <td>Дальневосточный ФО</td>\n",
       "      <td>Улан-Удэ</td>\n",
       "      <td>ЦГиЭ</td>\n",
       "      <td>2015</td>\n",
       "      <td>40</td>\n",
       "      <td>144</td>\n",
       "      <td>159</td>\n",
       "      <td>75</td>\n",
       "      <td>228</td>\n",
       "      <td>606</td>\n",
       "      <td>0</td>\n",
       "      <td>0</td>\n",
       "      <td>0</td>\n",
       "      <td>0</td>\n",
       "      <td>0</td>\n",
       "      <td>23314</td>\n",
       "      <td>28731</td>\n",
       "      <td>45498</td>\n",
       "      <td>365197</td>\n",
       "      <td>462740</td>\n",
       "    </tr>\n",
       "    <tr>\n",
       "      <th>...</th>\n",
       "      <td>...</td>\n",
       "      <td>...</td>\n",
       "      <td>...</td>\n",
       "      <td>...</td>\n",
       "      <td>...</td>\n",
       "      <td>...</td>\n",
       "      <td>...</td>\n",
       "      <td>...</td>\n",
       "      <td>...</td>\n",
       "      <td>...</td>\n",
       "      <td>...</td>\n",
       "      <td>...</td>\n",
       "      <td>...</td>\n",
       "      <td>...</td>\n",
       "      <td>...</td>\n",
       "      <td>...</td>\n",
       "      <td>...</td>\n",
       "      <td>...</td>\n",
       "      <td>...</td>\n",
       "      <td>...</td>\n",
       "    </tr>\n",
       "    <tr>\n",
       "      <th>12738</th>\n",
       "      <td>Южный ФО</td>\n",
       "      <td>Волгоград</td>\n",
       "      <td>ЦГиЭ</td>\n",
       "      <td>2019</td>\n",
       "      <td>39</td>\n",
       "      <td>952</td>\n",
       "      <td>1178</td>\n",
       "      <td>890</td>\n",
       "      <td>1531</td>\n",
       "      <td>4551</td>\n",
       "      <td>0</td>\n",
       "      <td>0</td>\n",
       "      <td>0</td>\n",
       "      <td>0</td>\n",
       "      <td>0</td>\n",
       "      <td>33687</td>\n",
       "      <td>42965</td>\n",
       "      <td>78425</td>\n",
       "      <td>858456</td>\n",
       "      <td>1013533</td>\n",
       "    </tr>\n",
       "    <tr>\n",
       "      <th>12739</th>\n",
       "      <td>Южный ФО</td>\n",
       "      <td>Краснодар</td>\n",
       "      <td>ЦГиЭ</td>\n",
       "      <td>2019</td>\n",
       "      <td>39</td>\n",
       "      <td>45</td>\n",
       "      <td>102</td>\n",
       "      <td>71</td>\n",
       "      <td>415</td>\n",
       "      <td>633</td>\n",
       "      <td>0</td>\n",
       "      <td>0</td>\n",
       "      <td>0</td>\n",
       "      <td>0</td>\n",
       "      <td>0</td>\n",
       "      <td>51402</td>\n",
       "      <td>51032</td>\n",
       "      <td>84385</td>\n",
       "      <td>803384</td>\n",
       "      <td>990203</td>\n",
       "    </tr>\n",
       "    <tr>\n",
       "      <th>12740</th>\n",
       "      <td>Южный ФО</td>\n",
       "      <td>Ростов-на-Дону</td>\n",
       "      <td>ЦГиЭ</td>\n",
       "      <td>2019</td>\n",
       "      <td>39</td>\n",
       "      <td>697</td>\n",
       "      <td>941</td>\n",
       "      <td>675</td>\n",
       "      <td>920</td>\n",
       "      <td>3233</td>\n",
       "      <td>0</td>\n",
       "      <td>0</td>\n",
       "      <td>0</td>\n",
       "      <td>0</td>\n",
       "      <td>0</td>\n",
       "      <td>38407</td>\n",
       "      <td>42503</td>\n",
       "      <td>72679</td>\n",
       "      <td>966286</td>\n",
       "      <td>1119875</td>\n",
       "    </tr>\n",
       "    <tr>\n",
       "      <th>12741</th>\n",
       "      <td>Южный ФО</td>\n",
       "      <td>Севастополь</td>\n",
       "      <td>ЦГиЭ</td>\n",
       "      <td>2019</td>\n",
       "      <td>39</td>\n",
       "      <td>175</td>\n",
       "      <td>287</td>\n",
       "      <td>402</td>\n",
       "      <td>259</td>\n",
       "      <td>1123</td>\n",
       "      <td>0</td>\n",
       "      <td>0</td>\n",
       "      <td>0</td>\n",
       "      <td>0</td>\n",
       "      <td>0</td>\n",
       "      <td>16088</td>\n",
       "      <td>19599</td>\n",
       "      <td>34766</td>\n",
       "      <td>366217</td>\n",
       "      <td>436670</td>\n",
       "    </tr>\n",
       "    <tr>\n",
       "      <th>12742</th>\n",
       "      <td>Южный ФО</td>\n",
       "      <td>Симферополь</td>\n",
       "      <td>ЦГиЭ</td>\n",
       "      <td>2019</td>\n",
       "      <td>39</td>\n",
       "      <td>262</td>\n",
       "      <td>560</td>\n",
       "      <td>626</td>\n",
       "      <td>378</td>\n",
       "      <td>1826</td>\n",
       "      <td>0</td>\n",
       "      <td>0</td>\n",
       "      <td>0</td>\n",
       "      <td>0</td>\n",
       "      <td>0</td>\n",
       "      <td>14051</td>\n",
       "      <td>19145</td>\n",
       "      <td>32012</td>\n",
       "      <td>300848</td>\n",
       "      <td>366056</td>\n",
       "    </tr>\n",
       "  </tbody>\n",
       "</table>\n",
       "<p>12743 rows × 20 columns</p>\n",
       "</div>"
      ],
      "text/plain": [
       "              REGION_NAME   DISTRICT_NAME LPU_NAME  YEAR  WEEK  ARI_0_2  \\\n",
       "0      Дальневосточный ФО      Биробиджан     ЦГиЭ  2015    40      212   \n",
       "1      Дальневосточный ФО     Владивосток     ЦГиЭ  2015    40      631   \n",
       "2      Дальневосточный ФО         Магадан     ЦГиЭ  2015    40      149   \n",
       "3      Дальневосточный ФО   Петропавловск     ЦГиЭ  2015    40      297   \n",
       "4      Дальневосточный ФО        Улан-Удэ     ЦГиЭ  2015    40      144   \n",
       "...                   ...             ...      ...   ...   ...      ...   \n",
       "12738            Южный ФО       Волгоград     ЦГиЭ  2019    39      952   \n",
       "12739            Южный ФО       Краснодар     ЦГиЭ  2019    39       45   \n",
       "12740            Южный ФО  Ростов-на-Дону     ЦГиЭ  2019    39      697   \n",
       "12741            Южный ФО     Севастополь     ЦГиЭ  2019    39      175   \n",
       "12742            Южный ФО     Симферополь     ЦГиЭ  2019    39      262   \n",
       "\n",
       "       ARI_3_6  ARI_7_14  ARI_15  ARI_TOTAL  ILI_0_2  ILI_3_6  ILI_7_14  \\\n",
       "0          163        87      85        547        0        0         0   \n",
       "1          811       359     570       2371        0        0         0   \n",
       "2          200       155     128        632        0        0         0   \n",
       "3          334       226     193       1050        0        0         0   \n",
       "4          159        75     228        606        0        0         0   \n",
       "...        ...       ...     ...        ...      ...      ...       ...   \n",
       "12738     1178       890    1531       4551        0        0         0   \n",
       "12739      102        71     415        633        0        0         0   \n",
       "12740      941       675     920       3233        0        0         0   \n",
       "12741      287       402     259       1123        0        0         0   \n",
       "12742      560       626     378       1826        0        0         0   \n",
       "\n",
       "       ILI_15  ILI_TOTAL  POP_0_2  POP_3_6  POP_7_14  POP_15  POP_TOTAL  \n",
       "0           0          0     2929     3810      6470   61568      74777  \n",
       "1           0          0    19634    26033     48036  495273     588976  \n",
       "2           0          0     3696     4601      8429   84319     101045  \n",
       "3           0          0     6754     7979     13889  152393     181015  \n",
       "4           0          0    23314    28731     45498  365197     462740  \n",
       "...       ...        ...      ...      ...       ...     ...        ...  \n",
       "12738       0          0    33687    42965     78425  858456    1013533  \n",
       "12739       0          0    51402    51032     84385  803384     990203  \n",
       "12740       0          0    38407    42503     72679  966286    1119875  \n",
       "12741       0          0    16088    19599     34766  366217     436670  \n",
       "12742       0          0    14051    19145     32012  300848     366056  \n",
       "\n",
       "[12743 rows x 20 columns]"
      ]
     },
     "execution_count": 48,
     "metadata": {},
     "output_type": "execute_result"
    }
   ],
   "source": [
    "epi_ds"
   ]
  },
  {
   "cell_type": "code",
   "execution_count": 48,
   "id": "d2fa83fd-3263-4b98-9805-902d77c449c3",
   "metadata": {},
   "outputs": [
    {
     "name": "stdout",
     "output_type": "stream",
     "text": [
      "2016-01-11 00:00:00\n"
     ]
    }
   ],
   "source": [
    "wk = '2016-2'\n",
    "dt = datetime.strptime(wk + '-1', \"%Y-%W-%w\")\n",
    "print(dt)"
   ]
  },
  {
   "cell_type": "code",
   "execution_count": null,
   "id": "cardiac-woman",
   "metadata": {},
   "outputs": [],
   "source": []
  }
 ],
 "metadata": {
  "kernelspec": {
   "display_name": "Python 3",
   "language": "python",
   "name": "python3"
  },
  "language_info": {
   "codemirror_mode": {
    "name": "ipython",
    "version": 3
   },
   "file_extension": ".py",
   "mimetype": "text/x-python",
   "name": "python",
   "nbconvert_exporter": "python",
   "pygments_lexer": "ipython3",
   "version": "3.8.3"
  }
 },
 "nbformat": 4,
 "nbformat_minor": 5
}
