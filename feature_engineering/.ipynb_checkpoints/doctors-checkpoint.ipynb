{
 "cells": [
  {
   "cell_type": "code",
   "execution_count": 1,
   "id": "d2532c6d",
   "metadata": {},
   "outputs": [
    {
     "data": {
      "text/plain": [
       "8"
      ]
     },
     "execution_count": 1,
     "metadata": {},
     "output_type": "execute_result"
    }
   ],
   "source": [
    "import pandas as pd\n",
    "data_path = 'nii_inf/export_EPI_MAIN_weekly_201540_201939_FINAL.xlsx'\n",
    "df = pd.read_excel(data_path)\n",
    "epidem_regions = set(list(df['REGION_NAME']))\n",
    "len(epidem_regions)"
   ]
  },
  {
   "cell_type": "code",
   "execution_count": 2,
   "id": "3650f0fd",
   "metadata": {},
   "outputs": [
    {
     "data": {
      "text/plain": [
       "61"
      ]
     },
     "execution_count": 2,
     "metadata": {},
     "output_type": "execute_result"
    }
   ],
   "source": [
    "df_cities = pd.read_csv('new_data/cities_list.csv')\n",
    "len(set(df_cities['settlement']) & set(df['DISTRICT_NAME']))"
   ]
  },
  {
   "cell_type": "code",
   "execution_count": 3,
   "id": "d5a4ac90",
   "metadata": {},
   "outputs": [],
   "source": [
    "city2region = {}\n",
    "region2city = {}\n",
    "region2city_lower = {}\n",
    "for city in set(df['DISTRICT_NAME']):\n",
    "    city2region[city] = list(df_cities[df_cities['settlement'] == city]['region'])[0]\n",
    "    region2city_lower[list(df_cities[df_cities['settlement'] == city]['region'])[0].lower()] = city\n",
    "    region2city[list(df_cities[df_cities['settlement'] == city]['region'])[0]] = city"
   ]
  },
  {
   "cell_type": "markdown",
   "id": "8d57aa17",
   "metadata": {},
   "source": [
    "# Терапевты"
   ]
  },
  {
   "cell_type": "code",
   "execution_count": 4,
   "id": "3677e170",
   "metadata": {},
   "outputs": [
    {
     "data": {
      "text/html": [
       "<div>\n",
       "<style scoped>\n",
       "    .dataframe tbody tr th:only-of-type {\n",
       "        vertical-align: middle;\n",
       "    }\n",
       "\n",
       "    .dataframe tbody tr th {\n",
       "        vertical-align: top;\n",
       "    }\n",
       "\n",
       "    .dataframe thead th {\n",
       "        text-align: right;\n",
       "    }\n",
       "</style>\n",
       "<table border=\"1\" class=\"dataframe\">\n",
       "  <thead>\n",
       "    <tr style=\"text-align: right;\">\n",
       "      <th></th>\n",
       "      <th>СУБЪЕКТЫ  ФЕДЕРАЦИИ</th>\n",
       "      <th>численность 2017</th>\n",
       "      <th>численность 2018</th>\n",
       "      <th>на 100к человек 2017</th>\n",
       "      <th>на 100к человек 2018</th>\n",
       "    </tr>\n",
       "  </thead>\n",
       "  <tbody>\n",
       "    <tr>\n",
       "      <th>0</th>\n",
       "      <td>Ямало-Hенецкий АО</td>\n",
       "      <td>350</td>\n",
       "      <td>347</td>\n",
       "      <td>8,85</td>\n",
       "      <td>8,77</td>\n",
       "    </tr>\n",
       "    <tr>\n",
       "      <th>1</th>\n",
       "      <td>Челябинская область</td>\n",
       "      <td>1169</td>\n",
       "      <td>1126</td>\n",
       "      <td>4,25</td>\n",
       "      <td>4,09</td>\n",
       "    </tr>\n",
       "    <tr>\n",
       "      <th>2</th>\n",
       "      <td>Сибирский федеральный округ</td>\n",
       "      <td>8387</td>\n",
       "      <td>7595</td>\n",
       "      <td>5,61</td>\n",
       "      <td>5,66</td>\n",
       "    </tr>\n",
       "    <tr>\n",
       "      <th>3</th>\n",
       "      <td>Республика Алтай</td>\n",
       "      <td>118</td>\n",
       "      <td>114</td>\n",
       "      <td>7,81</td>\n",
       "      <td>7,55</td>\n",
       "    </tr>\n",
       "    <tr>\n",
       "      <th>4</th>\n",
       "      <td>Республика Тыва</td>\n",
       "      <td>196</td>\n",
       "      <td>193</td>\n",
       "      <td>9,71</td>\n",
       "      <td>9,56</td>\n",
       "    </tr>\n",
       "  </tbody>\n",
       "</table>\n",
       "</div>"
      ],
      "text/plain": [
       "           СУБЪЕКТЫ  ФЕДЕРАЦИИ  численность 2017  численность 2018  \\\n",
       "0            Ямало-Hенецкий АО               350               347   \n",
       "1          Челябинская область              1169              1126   \n",
       "2  Сибирский федеральный округ              8387              7595   \n",
       "3             Республика Алтай               118               114   \n",
       "4              Республика Тыва               196               193   \n",
       "\n",
       "  на 100к человек 2017 на 100к человек 2018  \n",
       "0                 8,85                 8,77  \n",
       "1                 4,25                 4,09  \n",
       "2                 5,61                 5,66  \n",
       "3                 7,81                 7,55  \n",
       "4                 9,71                 9,56  "
      ]
     },
     "execution_count": 4,
     "metadata": {},
     "output_type": "execute_result"
    }
   ],
   "source": [
    "terapevts = pd.read_csv(\"new_data/raw_data/терапевты.csv\")\n",
    "terapevts.head()"
   ]
  },
  {
   "cell_type": "code",
   "execution_count": 5,
   "id": "25ce1514",
   "metadata": {},
   "outputs": [
    {
     "data": {
      "text/plain": [
       "Index(['СУБЪЕКТЫ  ФЕДЕРАЦИИ', 'численность 2017', 'численность 2018',\n",
       "       'на 100к человек 2017', 'на 100к человек 2018'],\n",
       "      dtype='object')"
      ]
     },
     "execution_count": 5,
     "metadata": {},
     "output_type": "execute_result"
    }
   ],
   "source": [
    "terapevts.columns"
   ]
  },
  {
   "cell_type": "code",
   "execution_count": 6,
   "id": "671b24fc",
   "metadata": {},
   "outputs": [],
   "source": [
    "city2terapevt = {}\n",
    "city2terapevt_list = []\n",
    "for row in terapevts.iterrows():\n",
    "    region, num_terapevts, num_100k = row[1][\"СУБЪЕКТЫ  ФЕДЕРАЦИИ\"], row[1]['численность 2018'], row[1]['на 100к человек 2018']\n",
    "    if region.lower() in region2city_lower:\n",
    "        num_100k = float('.'.join(num_100k.split(',')))\n",
    "        city2terapevt[region2city_lower[region.lower()]] = [num_terapevts, num_100k]\n",
    "        city2terapevt_list.append([region2city_lower[region.lower()], num_terapevts, num_100k])"
   ]
  },
  {
   "cell_type": "code",
   "execution_count": 7,
   "id": "6a382757",
   "metadata": {},
   "outputs": [],
   "source": [
    "terapevts = pd.DataFrame(city2terapevt_list, columns=['city', 'num_terapevts', 'num_terapevts_100k_peaple'])"
   ]
  },
  {
   "cell_type": "code",
   "execution_count": 8,
   "id": "24839832",
   "metadata": {},
   "outputs": [
    {
     "data": {
      "text/html": [
       "<div>\n",
       "<style scoped>\n",
       "    .dataframe tbody tr th:only-of-type {\n",
       "        vertical-align: middle;\n",
       "    }\n",
       "\n",
       "    .dataframe tbody tr th {\n",
       "        vertical-align: top;\n",
       "    }\n",
       "\n",
       "    .dataframe thead th {\n",
       "        text-align: right;\n",
       "    }\n",
       "</style>\n",
       "<table border=\"1\" class=\"dataframe\">\n",
       "  <thead>\n",
       "    <tr style=\"text-align: right;\">\n",
       "      <th></th>\n",
       "      <th>city</th>\n",
       "      <th>num_terapevts</th>\n",
       "      <th>num_terapevts_100k_peaple</th>\n",
       "    </tr>\n",
       "  </thead>\n",
       "  <tbody>\n",
       "    <tr>\n",
       "      <th>0</th>\n",
       "      <td>Челябинск</td>\n",
       "      <td>1126</td>\n",
       "      <td>4.09</td>\n",
       "    </tr>\n",
       "    <tr>\n",
       "      <th>1</th>\n",
       "      <td>Орел</td>\n",
       "      <td>1094</td>\n",
       "      <td>5.89</td>\n",
       "    </tr>\n",
       "    <tr>\n",
       "      <th>2</th>\n",
       "      <td>Норильск</td>\n",
       "      <td>1343</td>\n",
       "      <td>5.96</td>\n",
       "    </tr>\n",
       "    <tr>\n",
       "      <th>3</th>\n",
       "      <td>Хабаровск</td>\n",
       "      <td>885</td>\n",
       "      <td>4.84</td>\n",
       "    </tr>\n",
       "    <tr>\n",
       "      <th>4</th>\n",
       "      <td>Кемерово</td>\n",
       "      <td>922</td>\n",
       "      <td>4.36</td>\n",
       "    </tr>\n",
       "  </tbody>\n",
       "</table>\n",
       "</div>"
      ],
      "text/plain": [
       "        city  num_terapevts  num_terapevts_100k_peaple\n",
       "0  Челябинск           1126                       4.09\n",
       "1       Орел           1094                       5.89\n",
       "2   Норильск           1343                       5.96\n",
       "3  Хабаровск            885                       4.84\n",
       "4   Кемерово            922                       4.36"
      ]
     },
     "execution_count": 8,
     "metadata": {},
     "output_type": "execute_result"
    }
   ],
   "source": [
    "terapevts.head()"
   ]
  },
  {
   "cell_type": "code",
   "execution_count": 9,
   "id": "7954eca3",
   "metadata": {},
   "outputs": [
    {
     "data": {
      "text/plain": [
       "(47, 3)"
      ]
     },
     "execution_count": 9,
     "metadata": {},
     "output_type": "execute_result"
    }
   ],
   "source": [
    "terapevts.shape"
   ]
  },
  {
   "cell_type": "code",
   "execution_count": 10,
   "id": "97b6995b",
   "metadata": {},
   "outputs": [],
   "source": [
    "terapevts.to_csv('new_data/terapevts.csv')"
   ]
  },
  {
   "cell_type": "markdown",
   "id": "7a4eed42",
   "metadata": {},
   "source": [
    "# Педиаторы"
   ]
  },
  {
   "cell_type": "code",
   "execution_count": 11,
   "id": "ae05c909",
   "metadata": {},
   "outputs": [
    {
     "data": {
      "text/html": [
       "<div>\n",
       "<style scoped>\n",
       "    .dataframe tbody tr th:only-of-type {\n",
       "        vertical-align: middle;\n",
       "    }\n",
       "\n",
       "    .dataframe tbody tr th {\n",
       "        vertical-align: top;\n",
       "    }\n",
       "\n",
       "    .dataframe thead th {\n",
       "        text-align: right;\n",
       "    }\n",
       "</style>\n",
       "<table border=\"1\" class=\"dataframe\">\n",
       "  <thead>\n",
       "    <tr style=\"text-align: right;\">\n",
       "      <th></th>\n",
       "      <th>СУБЪЕКТЫ  ФЕДЕРАЦИИ</th>\n",
       "      <th>численность 2017</th>\n",
       "      <th>численность 2018</th>\n",
       "      <th>на 100к человек 2017</th>\n",
       "      <th>на 100к человек 2018</th>\n",
       "    </tr>\n",
       "  </thead>\n",
       "  <tbody>\n",
       "    <tr>\n",
       "      <th>0</th>\n",
       "      <td>Российская Федерация</td>\n",
       "      <td>48264</td>\n",
       "      <td>48904</td>\n",
       "      <td>16,1</td>\n",
       "      <td>16,31</td>\n",
       "    </tr>\n",
       "    <tr>\n",
       "      <th>1</th>\n",
       "      <td>Центральный федеральный округ</td>\n",
       "      <td>12447</td>\n",
       "      <td>12711</td>\n",
       "      <td>17,75</td>\n",
       "      <td>18,13</td>\n",
       "    </tr>\n",
       "    <tr>\n",
       "      <th>2</th>\n",
       "      <td>Белгородская область</td>\n",
       "      <td>403</td>\n",
       "      <td>360</td>\n",
       "      <td>14,01</td>\n",
       "      <td>12,51</td>\n",
       "    </tr>\n",
       "    <tr>\n",
       "      <th>3</th>\n",
       "      <td>Брянская область</td>\n",
       "      <td>367</td>\n",
       "      <td>350</td>\n",
       "      <td>16,08</td>\n",
       "      <td>15,34</td>\n",
       "    </tr>\n",
       "    <tr>\n",
       "      <th>4</th>\n",
       "      <td>Владимирская область</td>\n",
       "      <td>382</td>\n",
       "      <td>374</td>\n",
       "      <td>15,13</td>\n",
       "      <td>14,82</td>\n",
       "    </tr>\n",
       "  </tbody>\n",
       "</table>\n",
       "</div>"
      ],
      "text/plain": [
       "             СУБЪЕКТЫ  ФЕДЕРАЦИИ  численность 2017  численность 2018  \\\n",
       "0           Российская Федерация             48264             48904   \n",
       "1  Центральный федеральный округ             12447             12711   \n",
       "2           Белгородская область               403               360   \n",
       "3               Брянская область               367               350   \n",
       "4           Владимирская область               382               374   \n",
       "\n",
       "  на 100к человек 2017 на 100к человек 2018  \n",
       "0                 16,1                16,31  \n",
       "1                17,75                18,13  \n",
       "2                14,01                12,51  \n",
       "3                16,08                15,34  \n",
       "4                15,13                14,82  "
      ]
     },
     "execution_count": 11,
     "metadata": {},
     "output_type": "execute_result"
    }
   ],
   "source": [
    "terapevts = pd.read_csv(\"new_data/raw_data/Педиатры.csv\")\n",
    "terapevts.head()"
   ]
  },
  {
   "cell_type": "code",
   "execution_count": 12,
   "id": "56d96e58",
   "metadata": {},
   "outputs": [],
   "source": [
    "city2terapevt = {}\n",
    "city2terapevt_list = []\n",
    "for row in terapevts.iterrows():\n",
    "    region, num_terapevts, num_100k = row[1][\"СУБЪЕКТЫ  ФЕДЕРАЦИИ\"], row[1]['численность 2018'], row[1]['на 100к человек 2018']\n",
    "    if region.lower() in region2city_lower:\n",
    "        num_100k = float('.'.join(num_100k.split(',')))\n",
    "        city2terapevt[region2city_lower[region.lower()]] = [num_terapevts, num_100k]\n",
    "        city2terapevt_list.append([region2city_lower[region.lower()], num_terapevts, num_100k])"
   ]
  },
  {
   "cell_type": "code",
   "execution_count": 13,
   "id": "795962d9",
   "metadata": {},
   "outputs": [],
   "source": [
    "terapevts = pd.DataFrame(city2terapevt_list, columns=['city', 'num_pediators', 'num_pediators_100k_peaple'])"
   ]
  },
  {
   "cell_type": "code",
   "execution_count": 14,
   "id": "9c940b4e",
   "metadata": {},
   "outputs": [
    {
     "data": {
      "text/html": [
       "<div>\n",
       "<style scoped>\n",
       "    .dataframe tbody tr th:only-of-type {\n",
       "        vertical-align: middle;\n",
       "    }\n",
       "\n",
       "    .dataframe tbody tr th {\n",
       "        vertical-align: top;\n",
       "    }\n",
       "\n",
       "    .dataframe thead th {\n",
       "        text-align: right;\n",
       "    }\n",
       "</style>\n",
       "<table border=\"1\" class=\"dataframe\">\n",
       "  <thead>\n",
       "    <tr style=\"text-align: right;\">\n",
       "      <th></th>\n",
       "      <th>city</th>\n",
       "      <th>num_pediators</th>\n",
       "      <th>num_pediators_100k_peaple</th>\n",
       "    </tr>\n",
       "  </thead>\n",
       "  <tbody>\n",
       "    <tr>\n",
       "      <th>0</th>\n",
       "      <td>Белгород</td>\n",
       "      <td>350</td>\n",
       "      <td>15.34</td>\n",
       "    </tr>\n",
       "    <tr>\n",
       "      <th>1</th>\n",
       "      <td>Владимир</td>\n",
       "      <td>374</td>\n",
       "      <td>14.82</td>\n",
       "    </tr>\n",
       "    <tr>\n",
       "      <th>2</th>\n",
       "      <td>Липецк</td>\n",
       "      <td>264</td>\n",
       "      <td>12.19</td>\n",
       "    </tr>\n",
       "    <tr>\n",
       "      <th>3</th>\n",
       "      <td>Смоленск</td>\n",
       "      <td>336</td>\n",
       "      <td>20.48</td>\n",
       "    </tr>\n",
       "    <tr>\n",
       "      <th>4</th>\n",
       "      <td>Тверь</td>\n",
       "      <td>407</td>\n",
       "      <td>17.14</td>\n",
       "    </tr>\n",
       "  </tbody>\n",
       "</table>\n",
       "</div>"
      ],
      "text/plain": [
       "       city  num_pediators  num_pediators_100k_peaple\n",
       "0  Белгород            350                      15.34\n",
       "1  Владимир            374                      14.82\n",
       "2    Липецк            264                      12.19\n",
       "3  Смоленск            336                      20.48\n",
       "4     Тверь            407                      17.14"
      ]
     },
     "execution_count": 14,
     "metadata": {},
     "output_type": "execute_result"
    }
   ],
   "source": [
    "terapevts.head()"
   ]
  },
  {
   "cell_type": "code",
   "execution_count": 15,
   "id": "cf2836f3",
   "metadata": {},
   "outputs": [
    {
     "data": {
      "text/plain": [
       "(47, 3)"
      ]
     },
     "execution_count": 15,
     "metadata": {},
     "output_type": "execute_result"
    }
   ],
   "source": [
    "terapevts.shape"
   ]
  },
  {
   "cell_type": "code",
   "execution_count": 16,
   "id": "6be20b90",
   "metadata": {},
   "outputs": [],
   "source": [
    "terapevts.to_csv('new_data/pediators.csv')"
   ]
  },
  {
   "cell_type": "code",
   "execution_count": null,
   "id": "4b9f47b3",
   "metadata": {},
   "outputs": [],
   "source": []
  }
 ],
 "metadata": {
  "kernelspec": {
   "display_name": "Python 3",
   "language": "python",
   "name": "python3"
  },
  "language_info": {
   "codemirror_mode": {
    "name": "ipython",
    "version": 3
   },
   "file_extension": ".py",
   "mimetype": "text/x-python",
   "name": "python",
   "nbconvert_exporter": "python",
   "pygments_lexer": "ipython3",
   "version": "3.7.10"
  }
 },
 "nbformat": 4,
 "nbformat_minor": 5
}
