{
 "cells": [
  {
   "cell_type": "code",
   "execution_count": 1,
   "id": "a48aa2e5",
   "metadata": {},
   "outputs": [],
   "source": [
    "import pandas as pd"
   ]
  },
  {
   "cell_type": "code",
   "execution_count": 2,
   "id": "8ec66cde",
   "metadata": {},
   "outputs": [],
   "source": [
    "data_path = 'nii_inf/export_EPI_MAIN_weekly_201540_201939_FINAL.xlsx'"
   ]
  },
  {
   "cell_type": "code",
   "execution_count": 3,
   "id": "bb822747",
   "metadata": {},
   "outputs": [],
   "source": [
    "df = pd.read_excel(data_path)"
   ]
  },
  {
   "cell_type": "code",
   "execution_count": 4,
   "id": "89824692",
   "metadata": {},
   "outputs": [
    {
     "data": {
      "text/html": [
       "<div>\n",
       "<style scoped>\n",
       "    .dataframe tbody tr th:only-of-type {\n",
       "        vertical-align: middle;\n",
       "    }\n",
       "\n",
       "    .dataframe tbody tr th {\n",
       "        vertical-align: top;\n",
       "    }\n",
       "\n",
       "    .dataframe thead th {\n",
       "        text-align: right;\n",
       "    }\n",
       "</style>\n",
       "<table border=\"1\" class=\"dataframe\">\n",
       "  <thead>\n",
       "    <tr style=\"text-align: right;\">\n",
       "      <th></th>\n",
       "      <th>REGION_NAME</th>\n",
       "      <th>DISTRICT_NAME</th>\n",
       "      <th>LPU_NAME</th>\n",
       "      <th>YEAR</th>\n",
       "      <th>WEEK</th>\n",
       "      <th>ARI_0_2</th>\n",
       "      <th>ARI_3_6</th>\n",
       "      <th>ARI_7_14</th>\n",
       "      <th>ARI_15</th>\n",
       "      <th>ARI_TOTAL</th>\n",
       "      <th>ILI_0_2</th>\n",
       "      <th>ILI_3_6</th>\n",
       "      <th>ILI_7_14</th>\n",
       "      <th>ILI_15</th>\n",
       "      <th>ILI_TOTAL</th>\n",
       "      <th>POP_0_2</th>\n",
       "      <th>POP_3_6</th>\n",
       "      <th>POP_7_14</th>\n",
       "      <th>POP_15</th>\n",
       "      <th>POP_TOTAL</th>\n",
       "    </tr>\n",
       "  </thead>\n",
       "  <tbody>\n",
       "    <tr>\n",
       "      <th>0</th>\n",
       "      <td>Дальневосточный ФО</td>\n",
       "      <td>Биробиджан</td>\n",
       "      <td>ЦГиЭ</td>\n",
       "      <td>2015</td>\n",
       "      <td>40</td>\n",
       "      <td>212</td>\n",
       "      <td>163</td>\n",
       "      <td>87</td>\n",
       "      <td>85</td>\n",
       "      <td>547</td>\n",
       "      <td>0</td>\n",
       "      <td>0</td>\n",
       "      <td>0</td>\n",
       "      <td>0</td>\n",
       "      <td>0</td>\n",
       "      <td>2929</td>\n",
       "      <td>3810</td>\n",
       "      <td>6470</td>\n",
       "      <td>61568</td>\n",
       "      <td>74777</td>\n",
       "    </tr>\n",
       "    <tr>\n",
       "      <th>1</th>\n",
       "      <td>Дальневосточный ФО</td>\n",
       "      <td>Владивосток</td>\n",
       "      <td>ЦГиЭ</td>\n",
       "      <td>2015</td>\n",
       "      <td>40</td>\n",
       "      <td>631</td>\n",
       "      <td>811</td>\n",
       "      <td>359</td>\n",
       "      <td>570</td>\n",
       "      <td>2371</td>\n",
       "      <td>0</td>\n",
       "      <td>0</td>\n",
       "      <td>0</td>\n",
       "      <td>0</td>\n",
       "      <td>0</td>\n",
       "      <td>19634</td>\n",
       "      <td>26033</td>\n",
       "      <td>48036</td>\n",
       "      <td>495273</td>\n",
       "      <td>588976</td>\n",
       "    </tr>\n",
       "    <tr>\n",
       "      <th>2</th>\n",
       "      <td>Дальневосточный ФО</td>\n",
       "      <td>Магадан</td>\n",
       "      <td>ЦГиЭ</td>\n",
       "      <td>2015</td>\n",
       "      <td>40</td>\n",
       "      <td>149</td>\n",
       "      <td>200</td>\n",
       "      <td>155</td>\n",
       "      <td>128</td>\n",
       "      <td>632</td>\n",
       "      <td>0</td>\n",
       "      <td>0</td>\n",
       "      <td>0</td>\n",
       "      <td>0</td>\n",
       "      <td>0</td>\n",
       "      <td>3696</td>\n",
       "      <td>4601</td>\n",
       "      <td>8429</td>\n",
       "      <td>84319</td>\n",
       "      <td>101045</td>\n",
       "    </tr>\n",
       "    <tr>\n",
       "      <th>3</th>\n",
       "      <td>Дальневосточный ФО</td>\n",
       "      <td>Петропавловск</td>\n",
       "      <td>ЦГиЭ</td>\n",
       "      <td>2015</td>\n",
       "      <td>40</td>\n",
       "      <td>297</td>\n",
       "      <td>334</td>\n",
       "      <td>226</td>\n",
       "      <td>193</td>\n",
       "      <td>1050</td>\n",
       "      <td>0</td>\n",
       "      <td>0</td>\n",
       "      <td>0</td>\n",
       "      <td>0</td>\n",
       "      <td>0</td>\n",
       "      <td>6754</td>\n",
       "      <td>7979</td>\n",
       "      <td>13889</td>\n",
       "      <td>152393</td>\n",
       "      <td>181015</td>\n",
       "    </tr>\n",
       "    <tr>\n",
       "      <th>4</th>\n",
       "      <td>Дальневосточный ФО</td>\n",
       "      <td>Улан-Удэ</td>\n",
       "      <td>ЦГиЭ</td>\n",
       "      <td>2015</td>\n",
       "      <td>40</td>\n",
       "      <td>144</td>\n",
       "      <td>159</td>\n",
       "      <td>75</td>\n",
       "      <td>228</td>\n",
       "      <td>606</td>\n",
       "      <td>0</td>\n",
       "      <td>0</td>\n",
       "      <td>0</td>\n",
       "      <td>0</td>\n",
       "      <td>0</td>\n",
       "      <td>23314</td>\n",
       "      <td>28731</td>\n",
       "      <td>45498</td>\n",
       "      <td>365197</td>\n",
       "      <td>462740</td>\n",
       "    </tr>\n",
       "  </tbody>\n",
       "</table>\n",
       "</div>"
      ],
      "text/plain": [
       "          REGION_NAME  DISTRICT_NAME LPU_NAME  YEAR  WEEK  ARI_0_2  ARI_3_6  \\\n",
       "0  Дальневосточный ФО     Биробиджан     ЦГиЭ  2015    40      212      163   \n",
       "1  Дальневосточный ФО    Владивосток     ЦГиЭ  2015    40      631      811   \n",
       "2  Дальневосточный ФО        Магадан     ЦГиЭ  2015    40      149      200   \n",
       "3  Дальневосточный ФО  Петропавловск     ЦГиЭ  2015    40      297      334   \n",
       "4  Дальневосточный ФО       Улан-Удэ     ЦГиЭ  2015    40      144      159   \n",
       "\n",
       "   ARI_7_14  ARI_15  ARI_TOTAL  ILI_0_2  ILI_3_6  ILI_7_14  ILI_15  ILI_TOTAL  \\\n",
       "0        87      85        547        0        0         0       0          0   \n",
       "1       359     570       2371        0        0         0       0          0   \n",
       "2       155     128        632        0        0         0       0          0   \n",
       "3       226     193       1050        0        0         0       0          0   \n",
       "4        75     228        606        0        0         0       0          0   \n",
       "\n",
       "   POP_0_2  POP_3_6  POP_7_14  POP_15  POP_TOTAL  \n",
       "0     2929     3810      6470   61568      74777  \n",
       "1    19634    26033     48036  495273     588976  \n",
       "2     3696     4601      8429   84319     101045  \n",
       "3     6754     7979     13889  152393     181015  \n",
       "4    23314    28731     45498  365197     462740  "
      ]
     },
     "execution_count": 4,
     "metadata": {},
     "output_type": "execute_result"
    }
   ],
   "source": [
    "df.head()"
   ]
  },
  {
   "cell_type": "code",
   "execution_count": 5,
   "id": "f6b78928",
   "metadata": {
    "scrolled": true
   },
   "outputs": [
    {
     "data": {
      "text/plain": [
       "8"
      ]
     },
     "execution_count": 5,
     "metadata": {},
     "output_type": "execute_result"
    }
   ],
   "source": [
    "epidem_regions = set(list(df['REGION_NAME']))\n",
    "len(epidem_regions)"
   ]
  },
  {
   "cell_type": "markdown",
   "id": "e4974d5f",
   "metadata": {},
   "source": [
    "# Города -> области"
   ]
  },
  {
   "cell_type": "code",
   "execution_count": 6,
   "id": "1ecc8790",
   "metadata": {},
   "outputs": [],
   "source": [
    "df_cities = pd.read_csv('new_data/cities_list.csv')"
   ]
  },
  {
   "cell_type": "code",
   "execution_count": 7,
   "id": "d6011932",
   "metadata": {},
   "outputs": [
    {
     "data": {
      "text/html": [
       "<div>\n",
       "<style scoped>\n",
       "    .dataframe tbody tr th:only-of-type {\n",
       "        vertical-align: middle;\n",
       "    }\n",
       "\n",
       "    .dataframe tbody tr th {\n",
       "        vertical-align: top;\n",
       "    }\n",
       "\n",
       "    .dataframe thead th {\n",
       "        text-align: right;\n",
       "    }\n",
       "</style>\n",
       "<table border=\"1\" class=\"dataframe\">\n",
       "  <thead>\n",
       "    <tr style=\"text-align: right;\">\n",
       "      <th></th>\n",
       "      <th>id</th>\n",
       "      <th>region</th>\n",
       "      <th>municipality</th>\n",
       "      <th>settlement</th>\n",
       "      <th>type</th>\n",
       "      <th>population</th>\n",
       "      <th>children</th>\n",
       "      <th>latitude_dms</th>\n",
       "      <th>longitude_dms</th>\n",
       "      <th>latitude_dd</th>\n",
       "      <th>longitude_dd</th>\n",
       "      <th>oktmo</th>\n",
       "      <th>dadata</th>\n",
       "      <th>rosstat</th>\n",
       "    </tr>\n",
       "  </thead>\n",
       "  <tbody>\n",
       "    <tr>\n",
       "      <th>0</th>\n",
       "      <td>0</td>\n",
       "      <td>Орловская область</td>\n",
       "      <td>Болховский</td>\n",
       "      <td>Колонтаева</td>\n",
       "      <td>д</td>\n",
       "      <td>0</td>\n",
       "      <td>0</td>\n",
       "      <td>53.22.07</td>\n",
       "      <td>035.54.36</td>\n",
       "      <td>53.368611</td>\n",
       "      <td>35.910000</td>\n",
       "      <td>5.460442e+10</td>\n",
       "      <td>0</td>\n",
       "      <td>1</td>\n",
       "    </tr>\n",
       "    <tr>\n",
       "      <th>1</th>\n",
       "      <td>1</td>\n",
       "      <td>Республика Крым</td>\n",
       "      <td>Алушта</td>\n",
       "      <td>Пушкино</td>\n",
       "      <td>с</td>\n",
       "      <td>273</td>\n",
       "      <td>0</td>\n",
       "      <td>44.35.45</td>\n",
       "      <td>034.20.27</td>\n",
       "      <td>44.595833</td>\n",
       "      <td>34.340833</td>\n",
       "      <td>3.570300e+10</td>\n",
       "      <td>0</td>\n",
       "      <td>1</td>\n",
       "    </tr>\n",
       "    <tr>\n",
       "      <th>2</th>\n",
       "      <td>2</td>\n",
       "      <td>Липецкая область</td>\n",
       "      <td>Лев-Толстовский район</td>\n",
       "      <td>Барятино</td>\n",
       "      <td>с</td>\n",
       "      <td>7</td>\n",
       "      <td>1</td>\n",
       "      <td>53.15.46</td>\n",
       "      <td>039.30.14</td>\n",
       "      <td>53.262778</td>\n",
       "      <td>39.503889</td>\n",
       "      <td>4.263641e+10</td>\n",
       "      <td>0</td>\n",
       "      <td>1</td>\n",
       "    </tr>\n",
       "    <tr>\n",
       "      <th>3</th>\n",
       "      <td>3</td>\n",
       "      <td>Тверская область</td>\n",
       "      <td>Селижаровский район</td>\n",
       "      <td>Хилово</td>\n",
       "      <td>д</td>\n",
       "      <td>2</td>\n",
       "      <td>0</td>\n",
       "      <td>56.54.20</td>\n",
       "      <td>033.25.09</td>\n",
       "      <td>56.905556</td>\n",
       "      <td>33.419167</td>\n",
       "      <td>2.865043e+10</td>\n",
       "      <td>0</td>\n",
       "      <td>1</td>\n",
       "    </tr>\n",
       "    <tr>\n",
       "      <th>4</th>\n",
       "      <td>4</td>\n",
       "      <td>Томская область</td>\n",
       "      <td>Парабельский район</td>\n",
       "      <td>Басмасово</td>\n",
       "      <td>д</td>\n",
       "      <td>6</td>\n",
       "      <td>0</td>\n",
       "      <td>58.38.12</td>\n",
       "      <td>082.02.40</td>\n",
       "      <td>58.636667</td>\n",
       "      <td>82.044444</td>\n",
       "      <td>6.964444e+10</td>\n",
       "      <td>0</td>\n",
       "      <td>1</td>\n",
       "    </tr>\n",
       "  </tbody>\n",
       "</table>\n",
       "</div>"
      ],
      "text/plain": [
       "   id             region           municipality  settlement type  population  \\\n",
       "0   0  Орловская область             Болховский  Колонтаева    д           0   \n",
       "1   1    Республика Крым                 Алушта     Пушкино    с         273   \n",
       "2   2   Липецкая область  Лев-Толстовский район    Барятино    с           7   \n",
       "3   3   Тверская область    Селижаровский район      Хилово    д           2   \n",
       "4   4    Томская область     Парабельский район   Басмасово    д           6   \n",
       "\n",
       "   children latitude_dms longitude_dms  latitude_dd  longitude_dd  \\\n",
       "0         0     53.22.07     035.54.36    53.368611     35.910000   \n",
       "1         0     44.35.45     034.20.27    44.595833     34.340833   \n",
       "2         1     53.15.46     039.30.14    53.262778     39.503889   \n",
       "3         0     56.54.20     033.25.09    56.905556     33.419167   \n",
       "4         0     58.38.12     082.02.40    58.636667     82.044444   \n",
       "\n",
       "          oktmo  dadata  rosstat  \n",
       "0  5.460442e+10       0        1  \n",
       "1  3.570300e+10       0        1  \n",
       "2  4.263641e+10       0        1  \n",
       "3  2.865043e+10       0        1  \n",
       "4  6.964444e+10       0        1  "
      ]
     },
     "execution_count": 7,
     "metadata": {},
     "output_type": "execute_result"
    }
   ],
   "source": [
    "df_cities.head()"
   ]
  },
  {
   "cell_type": "code",
   "execution_count": 8,
   "id": "71895376",
   "metadata": {},
   "outputs": [
    {
     "data": {
      "text/plain": [
       "61"
      ]
     },
     "execution_count": 8,
     "metadata": {},
     "output_type": "execute_result"
    }
   ],
   "source": [
    "len(set(df_cities['settlement']) & set(df['DISTRICT_NAME']))"
   ]
  },
  {
   "cell_type": "markdown",
   "id": "2e7440f6",
   "metadata": {},
   "source": [
    "Все города в списке есть"
   ]
  },
  {
   "cell_type": "code",
   "execution_count": 9,
   "id": "c940a552",
   "metadata": {},
   "outputs": [],
   "source": [
    "city2region = {}\n",
    "region2city = {}\n",
    "for city in set(df['DISTRICT_NAME']):\n",
    "    city2region[city] = list(df_cities[df_cities['settlement'] == city]['region'])[0]\n",
    "    region2city[list(df_cities[df_cities['settlement'] == city]['region'])[0]] = city"
   ]
  },
  {
   "cell_type": "code",
   "execution_count": 10,
   "id": "2dfab452",
   "metadata": {
    "scrolled": true
   },
   "outputs": [
    {
     "data": {
      "text/plain": [
       "{'Архангельск': 'Архангельская область',\n",
       " 'Брянск': 'Республика Дагестан',\n",
       " 'Екатеринбург': 'Свердловская область',\n",
       " 'Магадан': 'Магаданская область',\n",
       " 'Улан-Удэ': 'Республика Бурятия',\n",
       " 'Чита': 'Республика Татарстан',\n",
       " 'Биробиджан': 'Еврейская автономная область',\n",
       " 'Воронеж': 'Алтайский край',\n",
       " 'Ростов-на-Дону': 'Ростовская область',\n",
       " 'Краснодар': 'Краснодарский край',\n",
       " 'Красноярск': 'Оренбургская область',\n",
       " 'Якутск': 'Республика Саха (Якутия)',\n",
       " 'Сыктывкар': 'Республика Коми',\n",
       " 'Южно-Сахалинск': 'Сахалинская область',\n",
       " 'Саратов': 'Саратовская область',\n",
       " 'Владимир': 'Владимирская область',\n",
       " 'Орел': 'Алтайский край',\n",
       " 'Владивосток': 'Приморский край',\n",
       " 'Вологда': 'Вологодская область',\n",
       " 'Мурманск': 'Мурманская область',\n",
       " 'Иркутск': 'Иркутская область',\n",
       " 'Челябинск': 'Челябинская область',\n",
       " 'Норильск': 'Красноярский край',\n",
       " 'Курск': 'Красноярский край',\n",
       " 'Пенза': 'Пензенская область',\n",
       " 'Новосибирск': 'Новосибирская область',\n",
       " 'Ярославль': 'Ярославская область',\n",
       " 'Симферополь': 'Республика Крым',\n",
       " 'Пермь': 'Пермский край',\n",
       " 'Киров': 'Республика Саха (Якутия)',\n",
       " 'Санкт-Петербург': 'Санкт-Петербург',\n",
       " 'Псков': 'Псковская область',\n",
       " 'Казань': 'Кировская область',\n",
       " 'Хабаровск': 'Иркутская область',\n",
       " 'Самара': 'Ленинградская область',\n",
       " 'Барнаул': 'Алтайский край',\n",
       " 'Волгоград': 'Волгоградская область',\n",
       " 'Омск': 'Омская область',\n",
       " 'Липецк': 'Липецкая область',\n",
       " 'Владикавказ': 'Республика Северная Осетия - Алания',\n",
       " 'Уфа': 'Тюменская область',\n",
       " 'Кемерово': 'Кемеровская область',\n",
       " 'Томск': 'Томская область',\n",
       " 'Тула': 'Тульская область',\n",
       " 'Петропавловск': 'Пермский край',\n",
       " 'Тверь': 'Тверская область',\n",
       " 'Чебоксары': 'Чувашская республика',\n",
       " 'Астрахань': 'Кировская область',\n",
       " 'Москва': 'Москва',\n",
       " 'Нижний Новгород': 'Нижегородская область',\n",
       " 'Великий Новгород': 'Новгородская область',\n",
       " 'Севастополь': 'Севастополь',\n",
       " 'Рязань': 'Тверская область',\n",
       " 'Оренбург': 'Оренбургская область',\n",
       " 'Петрозаводск': 'Республика Карелия',\n",
       " 'Белгород': 'Брянская область',\n",
       " 'Смоленск': 'Смоленская область',\n",
       " 'Ижевск': 'Удмуртская республика',\n",
       " 'Ульяновск': 'Ульяновская область',\n",
       " 'Ставрополь': 'Ставропольский край',\n",
       " 'Калининград': 'Калининградская область'}"
      ]
     },
     "execution_count": 10,
     "metadata": {},
     "output_type": "execute_result"
    }
   ],
   "source": [
    "city2region"
   ]
  },
  {
   "cell_type": "code",
   "execution_count": 11,
   "id": "3d6c60d8",
   "metadata": {
    "scrolled": true
   },
   "outputs": [
    {
     "data": {
      "text/plain": [
       "{'Архангельская область': 'Архангельск',\n",
       " 'Республика Дагестан': 'Брянск',\n",
       " 'Свердловская область': 'Екатеринбург',\n",
       " 'Магаданская область': 'Магадан',\n",
       " 'Республика Бурятия': 'Улан-Удэ',\n",
       " 'Республика Татарстан': 'Чита',\n",
       " 'Еврейская автономная область': 'Биробиджан',\n",
       " 'Алтайский край': 'Барнаул',\n",
       " 'Ростовская область': 'Ростов-на-Дону',\n",
       " 'Краснодарский край': 'Краснодар',\n",
       " 'Оренбургская область': 'Оренбург',\n",
       " 'Республика Саха (Якутия)': 'Киров',\n",
       " 'Республика Коми': 'Сыктывкар',\n",
       " 'Сахалинская область': 'Южно-Сахалинск',\n",
       " 'Саратовская область': 'Саратов',\n",
       " 'Владимирская область': 'Владимир',\n",
       " 'Приморский край': 'Владивосток',\n",
       " 'Вологодская область': 'Вологда',\n",
       " 'Мурманская область': 'Мурманск',\n",
       " 'Иркутская область': 'Хабаровск',\n",
       " 'Челябинская область': 'Челябинск',\n",
       " 'Красноярский край': 'Курск',\n",
       " 'Пензенская область': 'Пенза',\n",
       " 'Новосибирская область': 'Новосибирск',\n",
       " 'Ярославская область': 'Ярославль',\n",
       " 'Республика Крым': 'Симферополь',\n",
       " 'Пермский край': 'Петропавловск',\n",
       " 'Санкт-Петербург': 'Санкт-Петербург',\n",
       " 'Псковская область': 'Псков',\n",
       " 'Кировская область': 'Астрахань',\n",
       " 'Ленинградская область': 'Самара',\n",
       " 'Волгоградская область': 'Волгоград',\n",
       " 'Омская область': 'Омск',\n",
       " 'Липецкая область': 'Липецк',\n",
       " 'Республика Северная Осетия - Алания': 'Владикавказ',\n",
       " 'Тюменская область': 'Уфа',\n",
       " 'Кемеровская область': 'Кемерово',\n",
       " 'Томская область': 'Томск',\n",
       " 'Тульская область': 'Тула',\n",
       " 'Тверская область': 'Рязань',\n",
       " 'Чувашская республика': 'Чебоксары',\n",
       " 'Москва': 'Москва',\n",
       " 'Нижегородская область': 'Нижний Новгород',\n",
       " 'Новгородская область': 'Великий Новгород',\n",
       " 'Севастополь': 'Севастополь',\n",
       " 'Республика Карелия': 'Петрозаводск',\n",
       " 'Брянская область': 'Белгород',\n",
       " 'Смоленская область': 'Смоленск',\n",
       " 'Удмуртская республика': 'Ижевск',\n",
       " 'Ульяновская область': 'Ульяновск',\n",
       " 'Ставропольский край': 'Ставрополь',\n",
       " 'Калининградская область': 'Калининград'}"
      ]
     },
     "execution_count": 11,
     "metadata": {},
     "output_type": "execute_result"
    }
   ],
   "source": [
    "region2city"
   ]
  },
  {
   "cell_type": "markdown",
   "id": "89be4064",
   "metadata": {},
   "source": [
    "# Курение"
   ]
  },
  {
   "cell_type": "code",
   "execution_count": 20,
   "id": "e3c12bab",
   "metadata": {},
   "outputs": [
    {
     "data": {
      "text/html": [
       "<div>\n",
       "<style scoped>\n",
       "    .dataframe tbody tr th:only-of-type {\n",
       "        vertical-align: middle;\n",
       "    }\n",
       "\n",
       "    .dataframe tbody tr th {\n",
       "        vertical-align: top;\n",
       "    }\n",
       "\n",
       "    .dataframe thead th {\n",
       "        text-align: right;\n",
       "    }\n",
       "</style>\n",
       "<table border=\"1\" class=\"dataframe\">\n",
       "  <thead>\n",
       "    <tr style=\"text-align: right;\">\n",
       "      <th></th>\n",
       "      <th>popsition</th>\n",
       "      <th>region</th>\n",
       "      <th>rating</th>\n",
       "      <th>2018 position</th>\n",
       "    </tr>\n",
       "  </thead>\n",
       "  <tbody>\n",
       "    <tr>\n",
       "      <th>0</th>\n",
       "      <td>1</td>\n",
       "      <td>Чеченская Республика</td>\n",
       "      <td>100</td>\n",
       "      <td>1</td>\n",
       "    </tr>\n",
       "    <tr>\n",
       "      <th>1</th>\n",
       "      <td>2</td>\n",
       "      <td>Республика Дагестан</td>\n",
       "      <td>99,2</td>\n",
       "      <td>2</td>\n",
       "    </tr>\n",
       "    <tr>\n",
       "      <th>2</th>\n",
       "      <td>3</td>\n",
       "      <td>Республика Ингушетия</td>\n",
       "      <td>87,1</td>\n",
       "      <td>4</td>\n",
       "    </tr>\n",
       "    <tr>\n",
       "      <th>3</th>\n",
       "      <td>4</td>\n",
       "      <td>Кабардино-Балкарская Республика</td>\n",
       "      <td>86,6</td>\n",
       "      <td>3</td>\n",
       "    </tr>\n",
       "    <tr>\n",
       "      <th>4</th>\n",
       "      <td>5</td>\n",
       "      <td>Тамбовская область</td>\n",
       "      <td>83,2</td>\n",
       "      <td>9</td>\n",
       "    </tr>\n",
       "  </tbody>\n",
       "</table>\n",
       "</div>"
      ],
      "text/plain": [
       "   popsition                           region rating  2018 position\n",
       "0          1             Чеченская Республика    100              1\n",
       "1          2              Республика Дагестан   99,2              2\n",
       "2          3             Республика Ингушетия   87,1              4\n",
       "3          4  Кабардино-Балкарская Республика   86,6              3\n",
       "4          5               Тамбовская область   83,2              9"
      ]
     },
     "execution_count": 20,
     "metadata": {},
     "output_type": "execute_result"
    }
   ],
   "source": [
    "habbits = pd.read_csv(\"new_data/raw_data/bad_habbits_raw.csv\")\n",
    "habbits.head()"
   ]
  },
  {
   "cell_type": "code",
   "execution_count": 21,
   "id": "3ecdc852",
   "metadata": {},
   "outputs": [
    {
     "data": {
      "text/plain": [
       "85"
      ]
     },
     "execution_count": 21,
     "metadata": {},
     "output_type": "execute_result"
    }
   ],
   "source": [
    "len(habbits)"
   ]
  },
  {
   "cell_type": "code",
   "execution_count": 22,
   "id": "afecce7d",
   "metadata": {},
   "outputs": [
    {
     "data": {
      "text/plain": [
       "'Республика Мордовия'"
      ]
     },
     "execution_count": 22,
     "metadata": {},
     "output_type": "execute_result"
    }
   ],
   "source": [
    "row[1]['region']"
   ]
  },
  {
   "cell_type": "code",
   "execution_count": 23,
   "id": "19efaab8",
   "metadata": {},
   "outputs": [],
   "source": [
    "city2habbit = {}\n",
    "city2habbit_list = []\n",
    "for row in habbits.iterrows():\n",
    "    region, rate = row[1][\"region\"], row[1]['rating']\n",
    "    if region in region2city:\n",
    "        city2habbit[region2city[region]] = rate\n",
    "        city2habbit_list.append([region2city[region], rate])"
   ]
  },
  {
   "cell_type": "code",
   "execution_count": 24,
   "id": "24fff1bd",
   "metadata": {
    "scrolled": true
   },
   "outputs": [
    {
     "data": {
      "text/plain": [
       "{'Брянск': '99,2',\n",
       " 'Волгоград': '81,4',\n",
       " 'Саратов': '79,8',\n",
       " 'Смоленск': '79',\n",
       " 'Ставрополь': '79',\n",
       " 'Краснодар': '77,9',\n",
       " 'Белгород': '76,7',\n",
       " 'Чита': '76,1',\n",
       " 'Нижний Новгород': '75,3',\n",
       " 'Ульяновск': '73,6',\n",
       " 'Севастополь': '70,7',\n",
       " 'Ростов-на-Дону': '70',\n",
       " 'Пенза': '69,3',\n",
       " 'Оренбург': '67',\n",
       " 'Великий Новгород': '66,9',\n",
       " 'Липецк': '66,3',\n",
       " 'Симферополь': '65,2',\n",
       " 'Владимир': '64,2',\n",
       " 'Тула': '63,9',\n",
       " 'Барнаул': '62,7',\n",
       " 'Псков': '62,4',\n",
       " 'Рязань': '60,7',\n",
       " 'Петрозаводск': '58,3',\n",
       " 'Омск': '57,4',\n",
       " 'Хабаровск': '56,4',\n",
       " 'Вологда': '55,6',\n",
       " 'Архангельск': '55,5',\n",
       " 'Новосибирск': '54,8',\n",
       " 'Москва': '54,4',\n",
       " 'Екатеринбург': '53,1',\n",
       " 'Томск': '53',\n",
       " 'Владивосток': '50,5',\n",
       " 'Астрахань': '50,2',\n",
       " 'Кемерово': '50,1',\n",
       " 'Калининград': '49,2',\n",
       " 'Самара': '47,9',\n",
       " 'Ярославль': '47,6',\n",
       " 'Курск': '46,6',\n",
       " 'Санкт-Петербург': '46,2',\n",
       " 'Петропавловск': '45,9',\n",
       " 'Челябинск': '45,8',\n",
       " 'Киров': '43,1',\n",
       " 'Уфа': '40,1',\n",
       " 'Сыктывкар': '36,5',\n",
       " 'Мурманск': '36,1',\n",
       " 'Биробиджан': '28,9',\n",
       " 'Улан-Удэ': '25,4',\n",
       " 'Южно-Сахалинск': '18,1',\n",
       " 'Магадан': '15'}"
      ]
     },
     "execution_count": 24,
     "metadata": {},
     "output_type": "execute_result"
    }
   ],
   "source": [
    "city2habbit"
   ]
  },
  {
   "cell_type": "code",
   "execution_count": 25,
   "id": "532590fc",
   "metadata": {
    "scrolled": true
   },
   "outputs": [],
   "source": [
    "habbits = pd.DataFrame(city2habbit_list, columns=['city', 'habbit_rate'])"
   ]
  },
  {
   "cell_type": "code",
   "execution_count": 26,
   "id": "b946fa51",
   "metadata": {},
   "outputs": [
    {
     "data": {
      "text/plain": [
       "49"
      ]
     },
     "execution_count": 26,
     "metadata": {},
     "output_type": "execute_result"
    }
   ],
   "source": [
    "len(habbits)"
   ]
  },
  {
   "cell_type": "code",
   "execution_count": 84,
   "id": "fa7134f0",
   "metadata": {},
   "outputs": [],
   "source": [
    "habbits.to_csv('new_data/habbits.csv')"
   ]
  },
  {
   "cell_type": "markdown",
   "id": "89621a5d",
   "metadata": {},
   "source": [
    "# Богатство"
   ]
  },
  {
   "cell_type": "code",
   "execution_count": 27,
   "id": "bbc2e92e",
   "metadata": {},
   "outputs": [
    {
     "data": {
      "text/html": [
       "<div>\n",
       "<style scoped>\n",
       "    .dataframe tbody tr th:only-of-type {\n",
       "        vertical-align: middle;\n",
       "    }\n",
       "\n",
       "    .dataframe tbody tr th {\n",
       "        vertical-align: top;\n",
       "    }\n",
       "\n",
       "    .dataframe thead th {\n",
       "        text-align: right;\n",
       "    }\n",
       "</style>\n",
       "<table border=\"1\" class=\"dataframe\">\n",
       "  <thead>\n",
       "    <tr style=\"text-align: right;\">\n",
       "      <th></th>\n",
       "      <th>place</th>\n",
       "      <th>region</th>\n",
       "      <th>perc_more_100k</th>\n",
       "      <th>percent_less_15k</th>\n",
       "      <th>most_common</th>\n",
       "    </tr>\n",
       "  </thead>\n",
       "  <tbody>\n",
       "    <tr>\n",
       "      <th>0</th>\n",
       "      <td>1</td>\n",
       "      <td>Чукотский автономный округ</td>\n",
       "      <td>40,5</td>\n",
       "      <td>0,6</td>\n",
       "      <td>59–147</td>\n",
       "    </tr>\n",
       "    <tr>\n",
       "      <th>1</th>\n",
       "      <td>2</td>\n",
       "      <td>Ямало-Ненецкий автономный округ</td>\n",
       "      <td>35</td>\n",
       "      <td>0,6</td>\n",
       "      <td>53–142</td>\n",
       "    </tr>\n",
       "    <tr>\n",
       "      <th>2</th>\n",
       "      <td>3</td>\n",
       "      <td>Москва</td>\n",
       "      <td>31,6</td>\n",
       "      <td>1,2</td>\n",
       "      <td>46–125</td>\n",
       "    </tr>\n",
       "    <tr>\n",
       "      <th>3</th>\n",
       "      <td>4</td>\n",
       "      <td>Магаданская область</td>\n",
       "      <td>27,3</td>\n",
       "      <td>0,3</td>\n",
       "      <td>47–113</td>\n",
       "    </tr>\n",
       "    <tr>\n",
       "      <th>4</th>\n",
       "      <td>5</td>\n",
       "      <td>Ненецкий автономный округ</td>\n",
       "      <td>25,8</td>\n",
       "      <td>2</td>\n",
       "      <td>45–105</td>\n",
       "    </tr>\n",
       "  </tbody>\n",
       "</table>\n",
       "</div>"
      ],
      "text/plain": [
       "   place                           region perc_more_100k percent_less_15k  \\\n",
       "0      1       Чукотский автономный округ           40,5              0,6   \n",
       "1      2  Ямало-Ненецкий автономный округ             35              0,6   \n",
       "2      3                           Москва           31,6              1,2   \n",
       "3      4              Магаданская область           27,3              0,3   \n",
       "4      5        Ненецкий автономный округ           25,8                2   \n",
       "\n",
       "  most_common  \n",
       "0      59–147  \n",
       "1      53–142  \n",
       "2      46–125  \n",
       "3      47–113  \n",
       "4      45–105  "
      ]
     },
     "execution_count": 27,
     "metadata": {},
     "output_type": "execute_result"
    }
   ],
   "source": [
    "money = pd.read_csv(\"new_data/raw_data/richness_raw.csv\")\n",
    "money.head()"
   ]
  },
  {
   "cell_type": "code",
   "execution_count": 19,
   "id": "d8f6231f",
   "metadata": {},
   "outputs": [
    {
     "data": {
      "text/plain": [
       "85"
      ]
     },
     "execution_count": 19,
     "metadata": {},
     "output_type": "execute_result"
    }
   ],
   "source": [
    "len(money)"
   ]
  },
  {
   "cell_type": "code",
   "execution_count": 15,
   "id": "4584b34d",
   "metadata": {
    "scrolled": true
   },
   "outputs": [],
   "source": [
    "city2money = {}\n",
    "city2money_list = []\n",
    "for row in money.iterrows():\n",
    "    region, values = row[1][\"region\"], list(row[1])[2:]\n",
    "    if region in region2city:\n",
    "        city2money[region2city[region]] = values\n",
    "        city2money_list.append([region2city[region]] + values)"
   ]
  },
  {
   "cell_type": "code",
   "execution_count": 16,
   "id": "ce4b7b95",
   "metadata": {},
   "outputs": [],
   "source": [
    "modey_df = pd.DataFrame(city2money_list, columns=['city', 'perc_more_100k', \n",
    "                                                   'percent_less_15k', 'most_common'])"
   ]
  },
  {
   "cell_type": "code",
   "execution_count": 17,
   "id": "4f14f052",
   "metadata": {},
   "outputs": [
    {
     "data": {
      "text/plain": [
       "49"
      ]
     },
     "execution_count": 17,
     "metadata": {},
     "output_type": "execute_result"
    }
   ],
   "source": [
    "len(modey_df)"
   ]
  },
  {
   "cell_type": "code",
   "execution_count": 105,
   "id": "77e1cc90",
   "metadata": {},
   "outputs": [
    {
     "data": {
      "text/html": [
       "<div>\n",
       "<style scoped>\n",
       "    .dataframe tbody tr th:only-of-type {\n",
       "        vertical-align: middle;\n",
       "    }\n",
       "\n",
       "    .dataframe tbody tr th {\n",
       "        vertical-align: top;\n",
       "    }\n",
       "\n",
       "    .dataframe thead th {\n",
       "        text-align: right;\n",
       "    }\n",
       "</style>\n",
       "<table border=\"1\" class=\"dataframe\">\n",
       "  <thead>\n",
       "    <tr style=\"text-align: right;\">\n",
       "      <th></th>\n",
       "      <th>city</th>\n",
       "      <th>perc_more_100k</th>\n",
       "      <th>percent_less_15k</th>\n",
       "      <th>most_common</th>\n",
       "    </tr>\n",
       "  </thead>\n",
       "  <tbody>\n",
       "    <tr>\n",
       "      <th>0</th>\n",
       "      <td>Москва</td>\n",
       "      <td>31,6</td>\n",
       "      <td>1,2</td>\n",
       "      <td>46–125</td>\n",
       "    </tr>\n",
       "    <tr>\n",
       "      <th>1</th>\n",
       "      <td>Магадан</td>\n",
       "      <td>27,3</td>\n",
       "      <td>0,3</td>\n",
       "      <td>47–113</td>\n",
       "    </tr>\n",
       "    <tr>\n",
       "      <th>2</th>\n",
       "      <td>Южно-Сахалинск</td>\n",
       "      <td>21,9</td>\n",
       "      <td>0,4</td>\n",
       "      <td>42–94</td>\n",
       "    </tr>\n",
       "    <tr>\n",
       "      <th>3</th>\n",
       "      <td>Киров</td>\n",
       "      <td>18,9</td>\n",
       "      <td>1,3</td>\n",
       "      <td>38–89</td>\n",
       "    </tr>\n",
       "    <tr>\n",
       "      <th>4</th>\n",
       "      <td>Санкт-Петербург</td>\n",
       "      <td>13,5</td>\n",
       "      <td>2,2</td>\n",
       "      <td>35–76</td>\n",
       "    </tr>\n",
       "  </tbody>\n",
       "</table>\n",
       "</div>"
      ],
      "text/plain": [
       "              city perc_more_100k percent_less_15k most_common\n",
       "0           Москва           31,6              1,2      46–125\n",
       "1          Магадан           27,3              0,3      47–113\n",
       "2   Южно-Сахалинск           21,9              0,4       42–94\n",
       "3            Киров           18,9              1,3       38–89\n",
       "4  Санкт-Петербург           13,5              2,2       35–76"
      ]
     },
     "execution_count": 105,
     "metadata": {},
     "output_type": "execute_result"
    }
   ],
   "source": [
    "modey_df.head()"
   ]
  },
  {
   "cell_type": "code",
   "execution_count": 106,
   "id": "edebf2ad",
   "metadata": {},
   "outputs": [],
   "source": [
    "modey_df.to_csv('new_data/money.csv')"
   ]
  },
  {
   "cell_type": "code",
   "execution_count": null,
   "id": "54fc054b",
   "metadata": {},
   "outputs": [],
   "source": []
  }
 ],
 "metadata": {
  "kernelspec": {
   "display_name": "Python 3",
   "language": "python",
   "name": "python3"
  },
  "language_info": {
   "codemirror_mode": {
    "name": "ipython",
    "version": 3
   },
   "file_extension": ".py",
   "mimetype": "text/x-python",
   "name": "python",
   "nbconvert_exporter": "python",
   "pygments_lexer": "ipython3",
   "version": "3.7.10"
  }
 },
 "nbformat": 4,
 "nbformat_minor": 5
}
